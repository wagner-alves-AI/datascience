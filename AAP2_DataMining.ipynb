{
  "nbformat": 4,
  "nbformat_minor": 0,
  "metadata": {
    "kernelspec": {
      "display_name": "Python 3",
      "language": "python",
      "name": "python3"
    },
    "language_info": {
      "codemirror_mode": {
        "name": "ipython",
        "version": 3
      },
      "file_extension": ".py",
      "mimetype": "text/x-python",
      "name": "python",
      "nbconvert_exporter": "python",
      "pygments_lexer": "ipython3",
      "version": "3.8.5"
    },
    "colab": {
      "name": "AAP2_DataMining.ipynb",
      "provenance": [],
      "include_colab_link": true
    }
  },
  "cells": [
    {
      "cell_type": "markdown",
      "metadata": {
        "id": "view-in-github",
        "colab_type": "text"
      },
      "source": [
        "<a href=\"https://colab.research.google.com/github/wagner-alves-AI/datascience/blob/master/AAP2_DataMining.ipynb\" target=\"_parent\"><img src=\"https://colab.research.google.com/assets/colab-badge.svg\" alt=\"Open In Colab\"/></a>"
      ]
    },
    {
      "cell_type": "markdown",
      "metadata": {
        "id": "bqD9sRNN3_Q1"
      },
      "source": [
        "### Etapa de análise e pré processamento dos dados"
      ]
    },
    {
      "cell_type": "code",
      "metadata": {
        "id": "_eSueBWY3_Q2"
      },
      "source": [
        "import pandas as pd\n",
        "import sqlalchemy\n",
        "from sklearn.cluster import KMeans\n",
        "from sklearn.metrics import silhouette_samples, silhouette_score\n",
        "import seaborn as sns; sns.set()\n",
        "import warnings\n",
        "%matplotlib inline\n",
        "import matplotlib.pyplot as plt\n",
        "import matplotlib.cm as cm\n",
        "import numpy as np\n",
        "from mpl_toolkits.mplot3d import Axes3D"
      ],
      "execution_count": null,
      "outputs": []
    },
    {
      "cell_type": "code",
      "metadata": {
        "id": "Vga8E0763_Q4",
        "outputId": "4b5f52ce-fed8-4382-ca9d-3251fd1806de"
      },
      "source": [
        "!pip install pymysql"
      ],
      "execution_count": null,
      "outputs": [
        {
          "output_type": "stream",
          "text": [
            "Requirement already satisfied: pymysql in c:\\users\\wgnr2\\anaconda3\\lib\\site-packages (1.0.2)\n"
          ],
          "name": "stdout"
        },
        {
          "output_type": "stream",
          "text": [
            "WARNING: You are using pip version 21.1.2; however, version 21.1.3 is available.\n",
            "You should consider upgrading via the 'c:\\users\\wgnr2\\anaconda3\\python.exe -m pip install --upgrade pip' command.\n"
          ],
          "name": "stderr"
        }
      ]
    },
    {
      "cell_type": "code",
      "metadata": {
        "id": "jOFDKu2p3_Q4"
      },
      "source": [
        "engine = sqlalchemy.create_engine('mysql+pymysql://root@localhost:3306/crimes_ny')"
      ],
      "execution_count": null,
      "outputs": []
    },
    {
      "cell_type": "code",
      "metadata": {
        "id": "3kpsFqr03_Q5"
      },
      "source": [
        "df = pd.read_csv('c:/Users/wgnr2/Desktop/crimes.csv', delimiter=',', skipinitialspace=True)"
      ],
      "execution_count": null,
      "outputs": []
    },
    {
      "cell_type": "code",
      "metadata": {
        "id": "IvjtEOYE3_Q6"
      },
      "source": [
        "df = df.drop(columns=['CMPLNT_NUM','CMPLNT_TO_DT','CMPLNT_TO_TM','RPT_DT','RPT_DT','KY_CD',\n",
        "                     'PD_CD','PD_DESC','CRM_ATPT_CPTD_CD','LAW_CAT_CD','JURIS_DESC','ADDR_PCT_CD',\n",
        "                     'LOC_OF_OCCUR_DESC','PREM_TYP_DESC','PARKS_NM','HADEVELOPT','X_COORD_CD',\n",
        "                     'Y_COORD_CD','Lat_Lon'])"
      ],
      "execution_count": null,
      "outputs": []
    },
    {
      "cell_type": "code",
      "metadata": {
        "id": "09JnsLXY3_Q6"
      },
      "source": [
        "df.to_sql(\n",
        "    name = 'crimes',\n",
        "    con = engine,\n",
        "    index = False,\n",
        "    if_exists = 'append'\n",
        ")\n",
        "df.head()"
      ],
      "execution_count": null,
      "outputs": []
    },
    {
      "cell_type": "code",
      "metadata": {
        "scrolled": true,
        "id": "Q8R_DKuG3_Q7",
        "outputId": "774a15bd-4fb2-49dc-8ac0-22ca935adb8c"
      },
      "source": [
        "df.info()"
      ],
      "execution_count": null,
      "outputs": [
        {
          "output_type": "stream",
          "text": [
            "<class 'pandas.core.frame.DataFrame'>\n",
            "RangeIndex: 361740 entries, 0 to 361739\n",
            "Data columns (total 6 columns):\n",
            " #   Column        Non-Null Count   Dtype  \n",
            "---  ------        --------------   -----  \n",
            " 0   CMPLNT_FR_DT  361740 non-null  object \n",
            " 1   CMPLNT_FR_TM  361740 non-null  object \n",
            " 2   OFNS_DESC     361702 non-null  object \n",
            " 3   BORO_NM       361740 non-null  object \n",
            " 4   Latitude      355886 non-null  float64\n",
            " 5   Longitude     355886 non-null  float64\n",
            "dtypes: float64(2), object(4)\n",
            "memory usage: 16.6+ MB\n"
          ],
          "name": "stdout"
        }
      ]
    },
    {
      "cell_type": "code",
      "metadata": {
        "id": "mbYbM-Dr3_Q7",
        "outputId": "8effa6a4-8230-4b6b-df3b-7aab2416105f"
      },
      "source": [
        "# Tratar dados nulos\n",
        "\n",
        "shape_antes = df.shape\n",
        "print(\"antes:\\t\", shape_antes)\n",
        "\n",
        "df.dropna(inplace=True)\n",
        "\n",
        "shape_depois = df.shape\n",
        "print(\"depois:\\t\", shape_depois)"
      ],
      "execution_count": null,
      "outputs": [
        {
          "output_type": "stream",
          "text": [
            "antes:\t (361740, 6)\n",
            "depois:\t (355848, 6)\n"
          ],
          "name": "stdout"
        }
      ]
    },
    {
      "cell_type": "code",
      "metadata": {
        "id": "P_CfYcRI3_Q8",
        "outputId": "8254e384-42a6-4577-bfe3-f7f833710970"
      },
      "source": [
        "df.isnull().sum()"
      ],
      "execution_count": null,
      "outputs": [
        {
          "output_type": "execute_result",
          "data": {
            "text/plain": [
              "CMPLNT_FR_DT    0\n",
              "CMPLNT_FR_TM    0\n",
              "OFNS_DESC       0\n",
              "BORO_NM         0\n",
              "Latitude        0\n",
              "Longitude       0\n",
              "dtype: int64"
            ]
          },
          "metadata": {
            "tags": []
          },
          "execution_count": 12
        }
      ]
    },
    {
      "cell_type": "code",
      "metadata": {
        "id": "6gNoQTj33_Q9"
      },
      "source": [
        "# Converter para varíaveis categóricas\n",
        "df[['OFNS_DESC','BORO_NM']] = df[['OFNS_DESC','BORO_NM']].astype('category')"
      ],
      "execution_count": null,
      "outputs": []
    },
    {
      "cell_type": "code",
      "metadata": {
        "id": "uuiydbeS3_Q9",
        "outputId": "95e0fe1a-b3f7-4aea-f331-3baf728e9bc6"
      },
      "source": [
        "df"
      ],
      "execution_count": null,
      "outputs": [
        {
          "output_type": "execute_result",
          "data": {
            "text/html": [
              "<div>\n",
              "<style scoped>\n",
              "    .dataframe tbody tr th:only-of-type {\n",
              "        vertical-align: middle;\n",
              "    }\n",
              "\n",
              "    .dataframe tbody tr th {\n",
              "        vertical-align: top;\n",
              "    }\n",
              "\n",
              "    .dataframe thead th {\n",
              "        text-align: right;\n",
              "    }\n",
              "</style>\n",
              "<table border=\"1\" class=\"dataframe\">\n",
              "  <thead>\n",
              "    <tr style=\"text-align: right;\">\n",
              "      <th></th>\n",
              "      <th>CMPLNT_FR_DT</th>\n",
              "      <th>CMPLNT_FR_TM</th>\n",
              "      <th>OFNS_DESC</th>\n",
              "      <th>BORO_NM</th>\n",
              "      <th>Latitude</th>\n",
              "      <th>Longitude</th>\n",
              "    </tr>\n",
              "  </thead>\n",
              "  <tbody>\n",
              "    <tr>\n",
              "      <th>0</th>\n",
              "      <td>09/30/2016</td>\n",
              "      <td>23:25:00</td>\n",
              "      <td>DANGEROUS WEAPONS</td>\n",
              "      <td>BRONX</td>\n",
              "      <td>40.837376</td>\n",
              "      <td>-73.887761</td>\n",
              "    </tr>\n",
              "    <tr>\n",
              "      <th>1</th>\n",
              "      <td>09/30/2016</td>\n",
              "      <td>23:16:00</td>\n",
              "      <td>ASSAULT 3 &amp; RELATED OFFENSES</td>\n",
              "      <td>BROOKLYN</td>\n",
              "      <td>40.661205</td>\n",
              "      <td>-73.950687</td>\n",
              "    </tr>\n",
              "    <tr>\n",
              "      <th>2</th>\n",
              "      <td>09/30/2016</td>\n",
              "      <td>23:00:00</td>\n",
              "      <td>DANGEROUS DRUGS</td>\n",
              "      <td>BRONX</td>\n",
              "      <td>40.816872</td>\n",
              "      <td>-73.850685</td>\n",
              "    </tr>\n",
              "    <tr>\n",
              "      <th>3</th>\n",
              "      <td>09/30/2016</td>\n",
              "      <td>23:00:00</td>\n",
              "      <td>DANGEROUS WEAPONS</td>\n",
              "      <td>QUEENS</td>\n",
              "      <td>40.696177</td>\n",
              "      <td>-73.804492</td>\n",
              "    </tr>\n",
              "    <tr>\n",
              "      <th>4</th>\n",
              "      <td>09/30/2016</td>\n",
              "      <td>23:00:00</td>\n",
              "      <td>HARRASSMENT 2</td>\n",
              "      <td>QUEENS</td>\n",
              "      <td>40.741458</td>\n",
              "      <td>-73.884339</td>\n",
              "    </tr>\n",
              "    <tr>\n",
              "      <th>...</th>\n",
              "      <td>...</td>\n",
              "      <td>...</td>\n",
              "      <td>...</td>\n",
              "      <td>...</td>\n",
              "      <td>...</td>\n",
              "      <td>...</td>\n",
              "    </tr>\n",
              "    <tr>\n",
              "      <th>361735</th>\n",
              "      <td>01/01/2015</td>\n",
              "      <td>03:50:00</td>\n",
              "      <td>ROBBERY</td>\n",
              "      <td>MANHATTAN</td>\n",
              "      <td>40.825818</td>\n",
              "      <td>-73.948975</td>\n",
              "    </tr>\n",
              "    <tr>\n",
              "      <th>361736</th>\n",
              "      <td>01/01/2015</td>\n",
              "      <td>01:25:00</td>\n",
              "      <td>HARRASSMENT 2</td>\n",
              "      <td>BRONX</td>\n",
              "      <td>40.820315</td>\n",
              "      <td>-73.890825</td>\n",
              "    </tr>\n",
              "    <tr>\n",
              "      <th>361737</th>\n",
              "      <td>01/01/2015</td>\n",
              "      <td>00:30:00</td>\n",
              "      <td>FELONY ASSAULT</td>\n",
              "      <td>QUEENS</td>\n",
              "      <td>40.754199</td>\n",
              "      <td>-73.832963</td>\n",
              "    </tr>\n",
              "    <tr>\n",
              "      <th>361738</th>\n",
              "      <td>06/30/2014</td>\n",
              "      <td>12:00:00</td>\n",
              "      <td>OFF. AGNST PUB ORD SENSBLTY &amp;</td>\n",
              "      <td>BRONX</td>\n",
              "      <td>40.883777</td>\n",
              "      <td>-73.907837</td>\n",
              "    </tr>\n",
              "    <tr>\n",
              "      <th>361739</th>\n",
              "      <td>12/31/2001</td>\n",
              "      <td>16:00:00</td>\n",
              "      <td>BURGLARY</td>\n",
              "      <td>BROOKLYN</td>\n",
              "      <td>40.683617</td>\n",
              "      <td>-73.980416</td>\n",
              "    </tr>\n",
              "  </tbody>\n",
              "</table>\n",
              "<p>355848 rows × 6 columns</p>\n",
              "</div>"
            ],
            "text/plain": [
              "       CMPLNT_FR_DT CMPLNT_FR_TM                      OFNS_DESC    BORO_NM  \\\n",
              "0        09/30/2016     23:25:00              DANGEROUS WEAPONS      BRONX   \n",
              "1        09/30/2016     23:16:00   ASSAULT 3 & RELATED OFFENSES   BROOKLYN   \n",
              "2        09/30/2016     23:00:00                DANGEROUS DRUGS      BRONX   \n",
              "3        09/30/2016     23:00:00              DANGEROUS WEAPONS     QUEENS   \n",
              "4        09/30/2016     23:00:00                  HARRASSMENT 2     QUEENS   \n",
              "...             ...          ...                            ...        ...   \n",
              "361735   01/01/2015     03:50:00                        ROBBERY  MANHATTAN   \n",
              "361736   01/01/2015     01:25:00                  HARRASSMENT 2      BRONX   \n",
              "361737   01/01/2015     00:30:00                 FELONY ASSAULT     QUEENS   \n",
              "361738   06/30/2014     12:00:00  OFF. AGNST PUB ORD SENSBLTY &      BRONX   \n",
              "361739   12/31/2001     16:00:00                       BURGLARY   BROOKLYN   \n",
              "\n",
              "         Latitude  Longitude  \n",
              "0       40.837376 -73.887761  \n",
              "1       40.661205 -73.950687  \n",
              "2       40.816872 -73.850685  \n",
              "3       40.696177 -73.804492  \n",
              "4       40.741458 -73.884339  \n",
              "...           ...        ...  \n",
              "361735  40.825818 -73.948975  \n",
              "361736  40.820315 -73.890825  \n",
              "361737  40.754199 -73.832963  \n",
              "361738  40.883777 -73.907837  \n",
              "361739  40.683617 -73.980416  \n",
              "\n",
              "[355848 rows x 6 columns]"
            ]
          },
          "metadata": {
            "tags": []
          },
          "execution_count": 14
        }
      ]
    },
    {
      "cell_type": "code",
      "metadata": {
        "id": "LxDsJlPD3_Q9"
      },
      "source": [
        "# Traduzir colunas\n",
        "\n",
        "df.columns = ['Data', 'Hora', 'Crime', 'Bairro', 'Latitude',\n",
        "       'Longitude']"
      ],
      "execution_count": null,
      "outputs": []
    },
    {
      "cell_type": "code",
      "metadata": {
        "id": "ayZxH6WN3_Q9",
        "outputId": "aa75d88b-8153-407f-a02f-244a89cb3b7a"
      },
      "source": [
        "df.columns"
      ],
      "execution_count": null,
      "outputs": [
        {
          "output_type": "execute_result",
          "data": {
            "text/plain": [
              "Index(['Data', 'Hora', 'Crime', 'Bairro', 'Latitude', 'Longitude'], dtype='object')"
            ]
          },
          "metadata": {
            "tags": []
          },
          "execution_count": 16
        }
      ]
    },
    {
      "cell_type": "code",
      "metadata": {
        "id": "I7YMdwCW3_Q-",
        "outputId": "78eb6215-9d6b-41cd-d658-2c92f2058748"
      },
      "source": [
        "df"
      ],
      "execution_count": null,
      "outputs": [
        {
          "output_type": "execute_result",
          "data": {
            "text/html": [
              "<div>\n",
              "<style scoped>\n",
              "    .dataframe tbody tr th:only-of-type {\n",
              "        vertical-align: middle;\n",
              "    }\n",
              "\n",
              "    .dataframe tbody tr th {\n",
              "        vertical-align: top;\n",
              "    }\n",
              "\n",
              "    .dataframe thead th {\n",
              "        text-align: right;\n",
              "    }\n",
              "</style>\n",
              "<table border=\"1\" class=\"dataframe\">\n",
              "  <thead>\n",
              "    <tr style=\"text-align: right;\">\n",
              "      <th></th>\n",
              "      <th>Data</th>\n",
              "      <th>Hora</th>\n",
              "      <th>Crime</th>\n",
              "      <th>Bairro</th>\n",
              "      <th>Latitude</th>\n",
              "      <th>Longitude</th>\n",
              "    </tr>\n",
              "  </thead>\n",
              "  <tbody>\n",
              "    <tr>\n",
              "      <th>0</th>\n",
              "      <td>09/30/2016</td>\n",
              "      <td>23:25:00</td>\n",
              "      <td>DANGEROUS WEAPONS</td>\n",
              "      <td>BRONX</td>\n",
              "      <td>40.837376</td>\n",
              "      <td>-73.887761</td>\n",
              "    </tr>\n",
              "    <tr>\n",
              "      <th>1</th>\n",
              "      <td>09/30/2016</td>\n",
              "      <td>23:16:00</td>\n",
              "      <td>ASSAULT 3 &amp; RELATED OFFENSES</td>\n",
              "      <td>BROOKLYN</td>\n",
              "      <td>40.661205</td>\n",
              "      <td>-73.950687</td>\n",
              "    </tr>\n",
              "    <tr>\n",
              "      <th>2</th>\n",
              "      <td>09/30/2016</td>\n",
              "      <td>23:00:00</td>\n",
              "      <td>DANGEROUS DRUGS</td>\n",
              "      <td>BRONX</td>\n",
              "      <td>40.816872</td>\n",
              "      <td>-73.850685</td>\n",
              "    </tr>\n",
              "    <tr>\n",
              "      <th>3</th>\n",
              "      <td>09/30/2016</td>\n",
              "      <td>23:00:00</td>\n",
              "      <td>DANGEROUS WEAPONS</td>\n",
              "      <td>QUEENS</td>\n",
              "      <td>40.696177</td>\n",
              "      <td>-73.804492</td>\n",
              "    </tr>\n",
              "    <tr>\n",
              "      <th>4</th>\n",
              "      <td>09/30/2016</td>\n",
              "      <td>23:00:00</td>\n",
              "      <td>HARRASSMENT 2</td>\n",
              "      <td>QUEENS</td>\n",
              "      <td>40.741458</td>\n",
              "      <td>-73.884339</td>\n",
              "    </tr>\n",
              "    <tr>\n",
              "      <th>...</th>\n",
              "      <td>...</td>\n",
              "      <td>...</td>\n",
              "      <td>...</td>\n",
              "      <td>...</td>\n",
              "      <td>...</td>\n",
              "      <td>...</td>\n",
              "    </tr>\n",
              "    <tr>\n",
              "      <th>361735</th>\n",
              "      <td>01/01/2015</td>\n",
              "      <td>03:50:00</td>\n",
              "      <td>ROBBERY</td>\n",
              "      <td>MANHATTAN</td>\n",
              "      <td>40.825818</td>\n",
              "      <td>-73.948975</td>\n",
              "    </tr>\n",
              "    <tr>\n",
              "      <th>361736</th>\n",
              "      <td>01/01/2015</td>\n",
              "      <td>01:25:00</td>\n",
              "      <td>HARRASSMENT 2</td>\n",
              "      <td>BRONX</td>\n",
              "      <td>40.820315</td>\n",
              "      <td>-73.890825</td>\n",
              "    </tr>\n",
              "    <tr>\n",
              "      <th>361737</th>\n",
              "      <td>01/01/2015</td>\n",
              "      <td>00:30:00</td>\n",
              "      <td>FELONY ASSAULT</td>\n",
              "      <td>QUEENS</td>\n",
              "      <td>40.754199</td>\n",
              "      <td>-73.832963</td>\n",
              "    </tr>\n",
              "    <tr>\n",
              "      <th>361738</th>\n",
              "      <td>06/30/2014</td>\n",
              "      <td>12:00:00</td>\n",
              "      <td>OFF. AGNST PUB ORD SENSBLTY &amp;</td>\n",
              "      <td>BRONX</td>\n",
              "      <td>40.883777</td>\n",
              "      <td>-73.907837</td>\n",
              "    </tr>\n",
              "    <tr>\n",
              "      <th>361739</th>\n",
              "      <td>12/31/2001</td>\n",
              "      <td>16:00:00</td>\n",
              "      <td>BURGLARY</td>\n",
              "      <td>BROOKLYN</td>\n",
              "      <td>40.683617</td>\n",
              "      <td>-73.980416</td>\n",
              "    </tr>\n",
              "  </tbody>\n",
              "</table>\n",
              "<p>355848 rows × 6 columns</p>\n",
              "</div>"
            ],
            "text/plain": [
              "              Data      Hora                          Crime     Bairro  \\\n",
              "0       09/30/2016  23:25:00              DANGEROUS WEAPONS      BRONX   \n",
              "1       09/30/2016  23:16:00   ASSAULT 3 & RELATED OFFENSES   BROOKLYN   \n",
              "2       09/30/2016  23:00:00                DANGEROUS DRUGS      BRONX   \n",
              "3       09/30/2016  23:00:00              DANGEROUS WEAPONS     QUEENS   \n",
              "4       09/30/2016  23:00:00                  HARRASSMENT 2     QUEENS   \n",
              "...            ...       ...                            ...        ...   \n",
              "361735  01/01/2015  03:50:00                        ROBBERY  MANHATTAN   \n",
              "361736  01/01/2015  01:25:00                  HARRASSMENT 2      BRONX   \n",
              "361737  01/01/2015  00:30:00                 FELONY ASSAULT     QUEENS   \n",
              "361738  06/30/2014  12:00:00  OFF. AGNST PUB ORD SENSBLTY &      BRONX   \n",
              "361739  12/31/2001  16:00:00                       BURGLARY   BROOKLYN   \n",
              "\n",
              "         Latitude  Longitude  \n",
              "0       40.837376 -73.887761  \n",
              "1       40.661205 -73.950687  \n",
              "2       40.816872 -73.850685  \n",
              "3       40.696177 -73.804492  \n",
              "4       40.741458 -73.884339  \n",
              "...           ...        ...  \n",
              "361735  40.825818 -73.948975  \n",
              "361736  40.820315 -73.890825  \n",
              "361737  40.754199 -73.832963  \n",
              "361738  40.883777 -73.907837  \n",
              "361739  40.683617 -73.980416  \n",
              "\n",
              "[355848 rows x 6 columns]"
            ]
          },
          "metadata": {
            "tags": []
          },
          "execution_count": 17
        }
      ]
    },
    {
      "cell_type": "code",
      "metadata": {
        "id": "kqTKboyQ3_Q-"
      },
      "source": [
        "# Criar nova base com os dados pré-processados\n",
        "\n",
        "df.to_csv(r'C:/Users/wgnr2/Desktop/crimes2.csv', index = False, header=True)"
      ],
      "execution_count": null,
      "outputs": []
    },
    {
      "cell_type": "code",
      "metadata": {
        "id": "G3L2VbbT3_Q-",
        "outputId": "7e00f747-f570-4654-d573-248bb689989b"
      },
      "source": [
        "# distribuição do dados\n",
        "\n",
        "plt.plot(df['Latitude'],df['Longitude'], 'o')\n",
        "plt.show()"
      ],
      "execution_count": null,
      "outputs": [
        {
          "output_type": "display_data",
          "data": {
            "image/png": "[encoded data removed]",
            "text/plain": [
              "<Figure size 432x288 with 1 Axes>"
            ]
          },
          "metadata": {
            "tags": [],
            "needs_background": "light"
          }
        }
      ]
    },
    {
      "cell_type": "code",
      "metadata": {
        "id": "Y515lh3b3_Q_",
        "outputId": "2e0377e4-241d-4fd1-f376-a7403bbc6f44"
      },
      "source": [
        "# criar tabela no BD\n",
        "\n",
        "df.to_sql(\n",
        "    name = 'base',\n",
        "    con = engine,\n",
        "    index = False,\n",
        "    if_exists = 'append'\n",
        ")\n",
        "df.head()"
      ],
      "execution_count": null,
      "outputs": [
        {
          "output_type": "execute_result",
          "data": {
            "text/html": [
              "<div>\n",
              "<style scoped>\n",
              "    .dataframe tbody tr th:only-of-type {\n",
              "        vertical-align: middle;\n",
              "    }\n",
              "\n",
              "    .dataframe tbody tr th {\n",
              "        vertical-align: top;\n",
              "    }\n",
              "\n",
              "    .dataframe thead th {\n",
              "        text-align: right;\n",
              "    }\n",
              "</style>\n",
              "<table border=\"1\" class=\"dataframe\">\n",
              "  <thead>\n",
              "    <tr style=\"text-align: right;\">\n",
              "      <th></th>\n",
              "      <th>Data</th>\n",
              "      <th>Hora</th>\n",
              "      <th>Crime</th>\n",
              "      <th>Bairro</th>\n",
              "      <th>Latitude</th>\n",
              "      <th>Longitude</th>\n",
              "    </tr>\n",
              "  </thead>\n",
              "  <tbody>\n",
              "    <tr>\n",
              "      <th>0</th>\n",
              "      <td>09/30/2016</td>\n",
              "      <td>23:25:00</td>\n",
              "      <td>DANGEROUS WEAPONS</td>\n",
              "      <td>BRONX</td>\n",
              "      <td>40.837376</td>\n",
              "      <td>-73.887761</td>\n",
              "    </tr>\n",
              "    <tr>\n",
              "      <th>1</th>\n",
              "      <td>09/30/2016</td>\n",
              "      <td>23:16:00</td>\n",
              "      <td>ASSAULT 3 &amp; RELATED OFFENSES</td>\n",
              "      <td>BROOKLYN</td>\n",
              "      <td>40.661205</td>\n",
              "      <td>-73.950687</td>\n",
              "    </tr>\n",
              "    <tr>\n",
              "      <th>2</th>\n",
              "      <td>09/30/2016</td>\n",
              "      <td>23:00:00</td>\n",
              "      <td>DANGEROUS DRUGS</td>\n",
              "      <td>BRONX</td>\n",
              "      <td>40.816872</td>\n",
              "      <td>-73.850685</td>\n",
              "    </tr>\n",
              "    <tr>\n",
              "      <th>3</th>\n",
              "      <td>09/30/2016</td>\n",
              "      <td>23:00:00</td>\n",
              "      <td>DANGEROUS WEAPONS</td>\n",
              "      <td>QUEENS</td>\n",
              "      <td>40.696177</td>\n",
              "      <td>-73.804492</td>\n",
              "    </tr>\n",
              "    <tr>\n",
              "      <th>4</th>\n",
              "      <td>09/30/2016</td>\n",
              "      <td>23:00:00</td>\n",
              "      <td>HARRASSMENT 2</td>\n",
              "      <td>QUEENS</td>\n",
              "      <td>40.741458</td>\n",
              "      <td>-73.884339</td>\n",
              "    </tr>\n",
              "  </tbody>\n",
              "</table>\n",
              "</div>"
            ],
            "text/plain": [
              "         Data      Hora                         Crime    Bairro   Latitude  \\\n",
              "0  09/30/2016  23:25:00             DANGEROUS WEAPONS     BRONX  40.837376   \n",
              "1  09/30/2016  23:16:00  ASSAULT 3 & RELATED OFFENSES  BROOKLYN  40.661205   \n",
              "2  09/30/2016  23:00:00               DANGEROUS DRUGS     BRONX  40.816872   \n",
              "3  09/30/2016  23:00:00             DANGEROUS WEAPONS    QUEENS  40.696177   \n",
              "4  09/30/2016  23:00:00                 HARRASSMENT 2    QUEENS  40.741458   \n",
              "\n",
              "   Longitude  \n",
              "0 -73.887761  \n",
              "1 -73.950687  \n",
              "2 -73.850685  \n",
              "3 -73.804492  \n",
              "4 -73.884339  "
            ]
          },
          "metadata": {
            "tags": []
          },
          "execution_count": 22
        }
      ]
    },
    {
      "cell_type": "code",
      "metadata": {
        "id": "Z4ZbPpIi3_Q_",
        "outputId": "75568304-5209-4eab-a1ca-4983b37a4c47"
      },
      "source": [
        "# Separar crimes por classe\n",
        "q1 = '''\n",
        "select distinct crime from base\n",
        "'''\n",
        "crimes = pd.read_sql_query(q1,engine)\n",
        "crimes"
      ],
      "execution_count": null,
      "outputs": [
        {
          "output_type": "execute_result",
          "data": {
            "text/html": [
              "<div>\n",
              "<style scoped>\n",
              "    .dataframe tbody tr th:only-of-type {\n",
              "        vertical-align: middle;\n",
              "    }\n",
              "\n",
              "    .dataframe tbody tr th {\n",
              "        vertical-align: top;\n",
              "    }\n",
              "\n",
              "    .dataframe thead th {\n",
              "        text-align: right;\n",
              "    }\n",
              "</style>\n",
              "<table border=\"1\" class=\"dataframe\">\n",
              "  <thead>\n",
              "    <tr style=\"text-align: right;\">\n",
              "      <th></th>\n",
              "      <th>crime</th>\n",
              "    </tr>\n",
              "  </thead>\n",
              "  <tbody>\n",
              "    <tr>\n",
              "      <th>0</th>\n",
              "      <td>DANGEROUS WEAPONS</td>\n",
              "    </tr>\n",
              "    <tr>\n",
              "      <th>1</th>\n",
              "      <td>ASSAULT 3 &amp; RELATED OFFENSES</td>\n",
              "    </tr>\n",
              "    <tr>\n",
              "      <th>2</th>\n",
              "      <td>DANGEROUS DRUGS</td>\n",
              "    </tr>\n",
              "    <tr>\n",
              "      <th>3</th>\n",
              "      <td>HARRASSMENT 2</td>\n",
              "    </tr>\n",
              "    <tr>\n",
              "      <th>4</th>\n",
              "      <td>ROBBERY</td>\n",
              "    </tr>\n",
              "    <tr>\n",
              "      <th>5</th>\n",
              "      <td>CRIMINAL MISCHIEF &amp; RELATED OF</td>\n",
              "    </tr>\n",
              "    <tr>\n",
              "      <th>6</th>\n",
              "      <td>MISCELLANEOUS PENAL LAW</td>\n",
              "    </tr>\n",
              "    <tr>\n",
              "      <th>7</th>\n",
              "      <td>PETIT LARCENY</td>\n",
              "    </tr>\n",
              "    <tr>\n",
              "      <th>8</th>\n",
              "      <td>FELONY ASSAULT</td>\n",
              "    </tr>\n",
              "    <tr>\n",
              "      <th>9</th>\n",
              "      <td>OFFENSES AGAINST PUBLIC ADMINI</td>\n",
              "    </tr>\n",
              "    <tr>\n",
              "      <th>10</th>\n",
              "      <td>FORGERY</td>\n",
              "    </tr>\n",
              "    <tr>\n",
              "      <th>11</th>\n",
              "      <td>VEHICLE AND TRAFFIC LAWS</td>\n",
              "    </tr>\n",
              "    <tr>\n",
              "      <th>12</th>\n",
              "      <td>NYS LAWS-UNCLASSIFIED FELONY</td>\n",
              "    </tr>\n",
              "    <tr>\n",
              "      <th>13</th>\n",
              "      <td>THEFT-FRAUD</td>\n",
              "    </tr>\n",
              "    <tr>\n",
              "      <th>14</th>\n",
              "      <td>OFF. AGNST PUB ORD SENSBLTY &amp;</td>\n",
              "    </tr>\n",
              "    <tr>\n",
              "      <th>15</th>\n",
              "      <td>THEFT OF SERVICES</td>\n",
              "    </tr>\n",
              "    <tr>\n",
              "      <th>16</th>\n",
              "      <td>GRAND LARCENY</td>\n",
              "    </tr>\n",
              "    <tr>\n",
              "      <th>17</th>\n",
              "      <td>INTOXICATED &amp; IMPAIRED DRIVING</td>\n",
              "    </tr>\n",
              "    <tr>\n",
              "      <th>18</th>\n",
              "      <td>CRIMINAL TRESPASS</td>\n",
              "    </tr>\n",
              "    <tr>\n",
              "      <th>19</th>\n",
              "      <td>OFFENSES AGAINST THE PERSON</td>\n",
              "    </tr>\n",
              "    <tr>\n",
              "      <th>20</th>\n",
              "      <td>MURDER &amp; NON-NEGL. MANSLAUGHTER</td>\n",
              "    </tr>\n",
              "    <tr>\n",
              "      <th>21</th>\n",
              "      <td>GRAND LARCENY OF MOTOR VEHICLE</td>\n",
              "    </tr>\n",
              "    <tr>\n",
              "      <th>22</th>\n",
              "      <td>BURGLARY</td>\n",
              "    </tr>\n",
              "    <tr>\n",
              "      <th>23</th>\n",
              "      <td>POSSESSION OF STOLEN PROPERTY</td>\n",
              "    </tr>\n",
              "    <tr>\n",
              "      <th>24</th>\n",
              "      <td>AGRICULTURE &amp; MRKTS LAW-UNCLASSIFIED</td>\n",
              "    </tr>\n",
              "    <tr>\n",
              "      <th>25</th>\n",
              "      <td>OTHER OFFENSES RELATED TO THEF</td>\n",
              "    </tr>\n",
              "    <tr>\n",
              "      <th>26</th>\n",
              "      <td>OFFENSES INVOLVING FRAUD</td>\n",
              "    </tr>\n",
              "    <tr>\n",
              "      <th>27</th>\n",
              "      <td>ADMINISTRATIVE CODE</td>\n",
              "    </tr>\n",
              "    <tr>\n",
              "      <th>28</th>\n",
              "      <td>FRAUDS</td>\n",
              "    </tr>\n",
              "    <tr>\n",
              "      <th>29</th>\n",
              "      <td>UNAUTHORIZED USE OF A VEHICLE</td>\n",
              "    </tr>\n",
              "    <tr>\n",
              "      <th>30</th>\n",
              "      <td>OTHER STATE LAWS (NON PENAL LA</td>\n",
              "    </tr>\n",
              "    <tr>\n",
              "      <th>31</th>\n",
              "      <td>SEX CRIMES</td>\n",
              "    </tr>\n",
              "    <tr>\n",
              "      <th>32</th>\n",
              "      <td>ARSON</td>\n",
              "    </tr>\n",
              "    <tr>\n",
              "      <th>33</th>\n",
              "      <td>JOSTLING</td>\n",
              "    </tr>\n",
              "    <tr>\n",
              "      <th>34</th>\n",
              "      <td>KIDNAPPING &amp; RELATED OFFENSES</td>\n",
              "    </tr>\n",
              "    <tr>\n",
              "      <th>35</th>\n",
              "      <td>PROSTITUTION &amp; RELATED OFFENSES</td>\n",
              "    </tr>\n",
              "    <tr>\n",
              "      <th>36</th>\n",
              "      <td>ALCOHOLIC BEVERAGE CONTROL LAW</td>\n",
              "    </tr>\n",
              "    <tr>\n",
              "      <th>37</th>\n",
              "      <td>OTHER STATE LAWS</td>\n",
              "    </tr>\n",
              "    <tr>\n",
              "      <th>38</th>\n",
              "      <td>GAMBLING</td>\n",
              "    </tr>\n",
              "    <tr>\n",
              "      <th>39</th>\n",
              "      <td>DISORDERLY CONDUCT</td>\n",
              "    </tr>\n",
              "    <tr>\n",
              "      <th>40</th>\n",
              "      <td>BURGLAR'S TOOLS</td>\n",
              "    </tr>\n",
              "    <tr>\n",
              "      <th>41</th>\n",
              "      <td>FRAUDULENT ACCOSTING</td>\n",
              "    </tr>\n",
              "    <tr>\n",
              "      <th>42</th>\n",
              "      <td>CHILD ABANDONMENT/NON SUPPORT</td>\n",
              "    </tr>\n",
              "    <tr>\n",
              "      <th>43</th>\n",
              "      <td>PETIT LARCENY OF MOTOR VEHICLE</td>\n",
              "    </tr>\n",
              "    <tr>\n",
              "      <th>44</th>\n",
              "      <td>ENDAN WELFARE INCOMP</td>\n",
              "    </tr>\n",
              "    <tr>\n",
              "      <th>45</th>\n",
              "      <td>NYS LAWS-UNCLASSIFIED VIOLATION</td>\n",
              "    </tr>\n",
              "    <tr>\n",
              "      <th>46</th>\n",
              "      <td>OFFENSES RELATED TO CHILDREN</td>\n",
              "    </tr>\n",
              "    <tr>\n",
              "      <th>47</th>\n",
              "      <td>OFFENSES AGAINST PUBLIC SAFETY</td>\n",
              "    </tr>\n",
              "    <tr>\n",
              "      <th>48</th>\n",
              "      <td>ESCAPE 3</td>\n",
              "    </tr>\n",
              "    <tr>\n",
              "      <th>49</th>\n",
              "      <td>ANTICIPATORY OFFENSES</td>\n",
              "    </tr>\n",
              "    <tr>\n",
              "      <th>50</th>\n",
              "      <td>HOMICIDE-NEGLIGENT-VEHICLE</td>\n",
              "    </tr>\n",
              "    <tr>\n",
              "      <th>51</th>\n",
              "      <td>OTHER STATE LAWS (NON PENAL LAW)</td>\n",
              "    </tr>\n",
              "    <tr>\n",
              "      <th>52</th>\n",
              "      <td>LOITERING/GAMBLING (CARDS, DIC</td>\n",
              "    </tr>\n",
              "    <tr>\n",
              "      <th>53</th>\n",
              "      <td>KIDNAPPING</td>\n",
              "    </tr>\n",
              "    <tr>\n",
              "      <th>54</th>\n",
              "      <td>NEW YORK CITY HEALTH CODE</td>\n",
              "    </tr>\n",
              "    <tr>\n",
              "      <th>55</th>\n",
              "      <td>DISRUPTION OF A RELIGIOUS SERV</td>\n",
              "    </tr>\n",
              "    <tr>\n",
              "      <th>56</th>\n",
              "      <td>UNLAWFUL POSS. WEAP. ON SCHOOL</td>\n",
              "    </tr>\n",
              "    <tr>\n",
              "      <th>57</th>\n",
              "      <td>HOMICIDE-NEGLIGENT,UNCLASSIFIE</td>\n",
              "    </tr>\n",
              "    <tr>\n",
              "      <th>58</th>\n",
              "      <td>ADMINISTRATIVE CODES</td>\n",
              "    </tr>\n",
              "  </tbody>\n",
              "</table>\n",
              "</div>"
            ],
            "text/plain": [
              "                                   crime\n",
              "0                      DANGEROUS WEAPONS\n",
              "1           ASSAULT 3 & RELATED OFFENSES\n",
              "2                        DANGEROUS DRUGS\n",
              "3                          HARRASSMENT 2\n",
              "4                                ROBBERY\n",
              "5         CRIMINAL MISCHIEF & RELATED OF\n",
              "6                MISCELLANEOUS PENAL LAW\n",
              "7                          PETIT LARCENY\n",
              "8                         FELONY ASSAULT\n",
              "9         OFFENSES AGAINST PUBLIC ADMINI\n",
              "10                               FORGERY\n",
              "11              VEHICLE AND TRAFFIC LAWS\n",
              "12          NYS LAWS-UNCLASSIFIED FELONY\n",
              "13                           THEFT-FRAUD\n",
              "14         OFF. AGNST PUB ORD SENSBLTY &\n",
              "15                     THEFT OF SERVICES\n",
              "16                         GRAND LARCENY\n",
              "17        INTOXICATED & IMPAIRED DRIVING\n",
              "18                     CRIMINAL TRESPASS\n",
              "19           OFFENSES AGAINST THE PERSON\n",
              "20       MURDER & NON-NEGL. MANSLAUGHTER\n",
              "21        GRAND LARCENY OF MOTOR VEHICLE\n",
              "22                              BURGLARY\n",
              "23         POSSESSION OF STOLEN PROPERTY\n",
              "24  AGRICULTURE & MRKTS LAW-UNCLASSIFIED\n",
              "25        OTHER OFFENSES RELATED TO THEF\n",
              "26              OFFENSES INVOLVING FRAUD\n",
              "27                   ADMINISTRATIVE CODE\n",
              "28                                FRAUDS\n",
              "29         UNAUTHORIZED USE OF A VEHICLE\n",
              "30        OTHER STATE LAWS (NON PENAL LA\n",
              "31                            SEX CRIMES\n",
              "32                                 ARSON\n",
              "33                              JOSTLING\n",
              "34         KIDNAPPING & RELATED OFFENSES\n",
              "35       PROSTITUTION & RELATED OFFENSES\n",
              "36        ALCOHOLIC BEVERAGE CONTROL LAW\n",
              "37                      OTHER STATE LAWS\n",
              "38                              GAMBLING\n",
              "39                    DISORDERLY CONDUCT\n",
              "40                       BURGLAR'S TOOLS\n",
              "41                  FRAUDULENT ACCOSTING\n",
              "42         CHILD ABANDONMENT/NON SUPPORT\n",
              "43        PETIT LARCENY OF MOTOR VEHICLE\n",
              "44                  ENDAN WELFARE INCOMP\n",
              "45       NYS LAWS-UNCLASSIFIED VIOLATION\n",
              "46          OFFENSES RELATED TO CHILDREN\n",
              "47        OFFENSES AGAINST PUBLIC SAFETY\n",
              "48                              ESCAPE 3\n",
              "49                 ANTICIPATORY OFFENSES\n",
              "50            HOMICIDE-NEGLIGENT-VEHICLE\n",
              "51      OTHER STATE LAWS (NON PENAL LAW)\n",
              "52        LOITERING/GAMBLING (CARDS, DIC\n",
              "53                            KIDNAPPING\n",
              "54             NEW YORK CITY HEALTH CODE\n",
              "55        DISRUPTION OF A RELIGIOUS SERV\n",
              "56        UNLAWFUL POSS. WEAP. ON SCHOOL\n",
              "57        HOMICIDE-NEGLIGENT,UNCLASSIFIE\n",
              "58                  ADMINISTRATIVE CODES"
            ]
          },
          "metadata": {
            "tags": []
          },
          "execution_count": 19
        }
      ]
    },
    {
      "cell_type": "code",
      "metadata": {
        "id": "V9EQhdLe3_Q_",
        "outputId": "558c6844-f37f-4986-f5cf-f9faf236ffd6"
      },
      "source": [
        "# Agrupar total de crimes por bairro\n",
        "\n",
        "q2 = '''select Bairro, crime 'tipo' , count(crime) as 'contagem' from base\n",
        "group by bairro'''\n",
        "\n",
        "crimes_bairro = pd.read_sql_query(q2,engine)\n",
        "crimes_bairro"
      ],
      "execution_count": null,
      "outputs": [
        {
          "output_type": "execute_result",
          "data": {
            "text/html": [
              "<div>\n",
              "<style scoped>\n",
              "    .dataframe tbody tr th:only-of-type {\n",
              "        vertical-align: middle;\n",
              "    }\n",
              "\n",
              "    .dataframe tbody tr th {\n",
              "        vertical-align: top;\n",
              "    }\n",
              "\n",
              "    .dataframe thead th {\n",
              "        text-align: right;\n",
              "    }\n",
              "</style>\n",
              "<table border=\"1\" class=\"dataframe\">\n",
              "  <thead>\n",
              "    <tr style=\"text-align: right;\">\n",
              "      <th></th>\n",
              "      <th>Bairro</th>\n",
              "      <th>tipo</th>\n",
              "      <th>contagem</th>\n",
              "    </tr>\n",
              "  </thead>\n",
              "  <tbody>\n",
              "    <tr>\n",
              "      <th>0</th>\n",
              "      <td>BRONX</td>\n",
              "      <td>DANGEROUS WEAPONS</td>\n",
              "      <td>79079</td>\n",
              "    </tr>\n",
              "    <tr>\n",
              "      <th>1</th>\n",
              "      <td>BROOKLYN</td>\n",
              "      <td>ASSAULT 3 &amp; RELATED OFFENSES</td>\n",
              "      <td>104441</td>\n",
              "    </tr>\n",
              "    <tr>\n",
              "      <th>2</th>\n",
              "      <td>MANHATTAN</td>\n",
              "      <td>DANGEROUS DRUGS</td>\n",
              "      <td>85734</td>\n",
              "    </tr>\n",
              "    <tr>\n",
              "      <th>3</th>\n",
              "      <td>QUEENS</td>\n",
              "      <td>DANGEROUS WEAPONS</td>\n",
              "      <td>70251</td>\n",
              "    </tr>\n",
              "    <tr>\n",
              "      <th>4</th>\n",
              "      <td>STATEN ISLAND</td>\n",
              "      <td>HARRASSMENT 2</td>\n",
              "      <td>16343</td>\n",
              "    </tr>\n",
              "  </tbody>\n",
              "</table>\n",
              "</div>"
            ],
            "text/plain": [
              "          Bairro                          tipo  contagem\n",
              "0          BRONX             DANGEROUS WEAPONS     79079\n",
              "1       BROOKLYN  ASSAULT 3 & RELATED OFFENSES    104441\n",
              "2      MANHATTAN               DANGEROUS DRUGS     85734\n",
              "3         QUEENS             DANGEROUS WEAPONS     70251\n",
              "4  STATEN ISLAND                 HARRASSMENT 2     16343"
            ]
          },
          "metadata": {
            "tags": []
          },
          "execution_count": 20
        }
      ]
    },
    {
      "cell_type": "code",
      "metadata": {
        "id": "4H0TfXal3_RA",
        "outputId": "052f1128-55cf-41ed-8b1f-963241f4afce"
      },
      "source": [
        "# visualização\n",
        "\n",
        "plt.rcParams['figure.figsize'] = [5,5]\n",
        "plt.barh(crimes_bairro['Bairro'], crimes_bairro['contagem'])\n",
        "plt.show()"
      ],
      "execution_count": null,
      "outputs": [
        {
          "output_type": "display_data",
          "data": {
            "image/png": "[encoded data removed]",
            "text/plain": [
              "<Figure size 360x360 with 1 Axes>"
            ]
          },
          "metadata": {
            "tags": [],
            "needs_background": "light"
          }
        }
      ]
    },
    {
      "cell_type": "markdown",
      "metadata": {
        "id": "8jioeQix3_RA"
      },
      "source": [
        "### Etapa de Clusterização"
      ]
    },
    {
      "cell_type": "code",
      "metadata": {
        "id": "ZmymDsG_3_RA",
        "outputId": "6e3cac80-fe2a-42c8-a3e0-6bc2e10e934a"
      },
      "source": [
        "# descobrir o K ideal pelo método de Elbow\n",
        "\n",
        "K_clusters = range(1,10)\n",
        "kmeans = [KMeans(n_clusters=i) for i in K_clusters]\n",
        "\n",
        "Y_axis = df[['Latitude']]\n",
        "X_axis = df[['Longitude']]\n",
        "\n",
        "score = [kmeans[i].fit(Y_axis).score(Y_axis) for i in range(len(kmeans))]\n",
        "\n",
        "plt.plot(K_clusters, score)\n",
        "plt.xlabel('Clusters')\n",
        "plt.ylabel('Score')\n",
        "plt.title('Cotovelo de Elbow')\n",
        "\n",
        "plt.show()"
      ],
      "execution_count": null,
      "outputs": [
        {
          "output_type": "display_data",
          "data": {
            "image/png": "[encoded data removed]",
            "text/plain": [
              "<Figure size 360x360 with 1 Axes>"
            ]
          },
          "metadata": {
            "tags": [],
            "needs_background": "light"
          }
        }
      ]
    },
    {
      "cell_type": "code",
      "metadata": {
        "id": "-htuQ0oX3_RB"
      },
      "source": [
        "X = df[['Latitude','Longitude']]"
      ],
      "execution_count": null,
      "outputs": []
    },
    {
      "cell_type": "code",
      "metadata": {
        "id": "2ubSMyx13_RB",
        "outputId": "218ea8d5-abaf-43f9-cf10-1b7ec7141083"
      },
      "source": [
        "X"
      ],
      "execution_count": null,
      "outputs": [
        {
          "output_type": "execute_result",
          "data": {
            "text/html": [
              "<div>\n",
              "<style scoped>\n",
              "    .dataframe tbody tr th:only-of-type {\n",
              "        vertical-align: middle;\n",
              "    }\n",
              "\n",
              "    .dataframe tbody tr th {\n",
              "        vertical-align: top;\n",
              "    }\n",
              "\n",
              "    .dataframe thead th {\n",
              "        text-align: right;\n",
              "    }\n",
              "</style>\n",
              "<table border=\"1\" class=\"dataframe\">\n",
              "  <thead>\n",
              "    <tr style=\"text-align: right;\">\n",
              "      <th></th>\n",
              "      <th>Latitude</th>\n",
              "      <th>Longitude</th>\n",
              "    </tr>\n",
              "  </thead>\n",
              "  <tbody>\n",
              "    <tr>\n",
              "      <th>0</th>\n",
              "      <td>40.837376</td>\n",
              "      <td>-73.887761</td>\n",
              "    </tr>\n",
              "    <tr>\n",
              "      <th>1</th>\n",
              "      <td>40.661205</td>\n",
              "      <td>-73.950687</td>\n",
              "    </tr>\n",
              "    <tr>\n",
              "      <th>2</th>\n",
              "      <td>40.816872</td>\n",
              "      <td>-73.850685</td>\n",
              "    </tr>\n",
              "    <tr>\n",
              "      <th>3</th>\n",
              "      <td>40.696177</td>\n",
              "      <td>-73.804492</td>\n",
              "    </tr>\n",
              "    <tr>\n",
              "      <th>4</th>\n",
              "      <td>40.741458</td>\n",
              "      <td>-73.884339</td>\n",
              "    </tr>\n",
              "    <tr>\n",
              "      <th>...</th>\n",
              "      <td>...</td>\n",
              "      <td>...</td>\n",
              "    </tr>\n",
              "    <tr>\n",
              "      <th>361735</th>\n",
              "      <td>40.825818</td>\n",
              "      <td>-73.948975</td>\n",
              "    </tr>\n",
              "    <tr>\n",
              "      <th>361736</th>\n",
              "      <td>40.820315</td>\n",
              "      <td>-73.890825</td>\n",
              "    </tr>\n",
              "    <tr>\n",
              "      <th>361737</th>\n",
              "      <td>40.754199</td>\n",
              "      <td>-73.832963</td>\n",
              "    </tr>\n",
              "    <tr>\n",
              "      <th>361738</th>\n",
              "      <td>40.883777</td>\n",
              "      <td>-73.907837</td>\n",
              "    </tr>\n",
              "    <tr>\n",
              "      <th>361739</th>\n",
              "      <td>40.683617</td>\n",
              "      <td>-73.980416</td>\n",
              "    </tr>\n",
              "  </tbody>\n",
              "</table>\n",
              "<p>355848 rows × 2 columns</p>\n",
              "</div>"
            ],
            "text/plain": [
              "         Latitude  Longitude\n",
              "0       40.837376 -73.887761\n",
              "1       40.661205 -73.950687\n",
              "2       40.816872 -73.850685\n",
              "3       40.696177 -73.804492\n",
              "4       40.741458 -73.884339\n",
              "...           ...        ...\n",
              "361735  40.825818 -73.948975\n",
              "361736  40.820315 -73.890825\n",
              "361737  40.754199 -73.832963\n",
              "361738  40.883777 -73.907837\n",
              "361739  40.683617 -73.980416\n",
              "\n",
              "[355848 rows x 2 columns]"
            ]
          },
          "metadata": {
            "tags": []
          },
          "execution_count": 26
        }
      ]
    },
    {
      "cell_type": "code",
      "metadata": {
        "id": "lUoxwwd33_RB",
        "outputId": "a40ad28f-bf3a-40a1-a345-4fbae35401fc"
      },
      "source": [
        "# Avaliar silhueta\n",
        "\n",
        "n_clusters = 6 \n",
        "kmeans = KMeans(n_clusters = n_clusters, init ='k-means++')\n",
        "kmeans.fit(X)\n",
        "\n",
        "# Calcula o Silhouette_score o qual dÃ¡ uma perspectiva da densidade e separaÃ§Ã£o dos clusters\n",
        "silhouette_avg = silhouette_score(X, labels)\n",
        "print(\"\\n\\n For \", n_clusters,\n",
        "          \" clusters, the average silhouette_score is :\", silhouette_avg)"
      ],
      "execution_count": null,
      "outputs": [
        {
          "output_type": "stream",
          "text": [
            "\n",
            "\n",
            " For  6  clusters, the average silhouette_score is : 0.4370838944582807\n"
          ],
          "name": "stdout"
        }
      ]
    },
    {
      "cell_type": "code",
      "metadata": {
        "id": "oYusEyrs3_RC",
        "outputId": "58c776c1-a553-4558-e6f8-9c7825b81691"
      },
      "source": [
        "# Treinamento do modelo e visualização dos resultados\n",
        "\n",
        "kmeans = KMeans(n_clusters = 6, init ='k-means++')\n",
        "    \n",
        "kmeans.fit(df[['Latitude','Longitude']]) \n",
        "\n",
        "df['cluster'] = kmeans.fit_predict(df[['Latitude','Longitude']])\n",
        "\n",
        "centroides = kmeans.cluster_centers_ \n",
        "    \n",
        "labels = kmeans.predict(df[['Latitude','Longitude']])\n",
        "\n",
        "# Clusterização\n",
        "sns.scatterplot(x=df['Latitude'], y=df['Longitude'], hue=df['cluster'])\n",
        "plt.scatter(centroides[:, 0], centroides[:, 1], c='red', s=200, alpha=0.5)\n",
        "plt.show()"
      ],
      "execution_count": null,
      "outputs": [
        {
          "output_type": "display_data",
          "data": {
            "image/png": "[encoded data removed]",
            "text/plain": [
              "<Figure size 360x360 with 1 Axes>"
            ]
          },
          "metadata": {
            "tags": [],
            "needs_background": "light"
          }
        }
      ]
    },
    {
      "cell_type": "markdown",
      "metadata": {
        "id": "lsC_t8QN3_RC"
      },
      "source": [
        "## Resultados"
      ]
    },
    {
      "cell_type": "code",
      "metadata": {
        "id": "Ta9ql0Bs3_RC",
        "outputId": "5717be82-94f5-4baa-efef-6a532bf2d9af"
      },
      "source": [
        "# Data frame final, com a coluna de rótulos (cluster)\n",
        "\n",
        "df.head()"
      ],
      "execution_count": null,
      "outputs": [
        {
          "output_type": "execute_result",
          "data": {
            "text/html": [
              "<div>\n",
              "<style scoped>\n",
              "    .dataframe tbody tr th:only-of-type {\n",
              "        vertical-align: middle;\n",
              "    }\n",
              "\n",
              "    .dataframe tbody tr th {\n",
              "        vertical-align: top;\n",
              "    }\n",
              "\n",
              "    .dataframe thead th {\n",
              "        text-align: right;\n",
              "    }\n",
              "</style>\n",
              "<table border=\"1\" class=\"dataframe\">\n",
              "  <thead>\n",
              "    <tr style=\"text-align: right;\">\n",
              "      <th></th>\n",
              "      <th>Data</th>\n",
              "      <th>Hora</th>\n",
              "      <th>Crime</th>\n",
              "      <th>Bairro</th>\n",
              "      <th>Latitude</th>\n",
              "      <th>Longitude</th>\n",
              "      <th>cluster</th>\n",
              "    </tr>\n",
              "  </thead>\n",
              "  <tbody>\n",
              "    <tr>\n",
              "      <th>0</th>\n",
              "      <td>09/30/2016</td>\n",
              "      <td>23:25:00</td>\n",
              "      <td>DANGEROUS WEAPONS</td>\n",
              "      <td>BRONX</td>\n",
              "      <td>40.837376</td>\n",
              "      <td>-73.887761</td>\n",
              "      <td>0</td>\n",
              "    </tr>\n",
              "    <tr>\n",
              "      <th>1</th>\n",
              "      <td>09/30/2016</td>\n",
              "      <td>23:16:00</td>\n",
              "      <td>ASSAULT 3 &amp; RELATED OFFENSES</td>\n",
              "      <td>BROOKLYN</td>\n",
              "      <td>40.661205</td>\n",
              "      <td>-73.950687</td>\n",
              "      <td>1</td>\n",
              "    </tr>\n",
              "    <tr>\n",
              "      <th>2</th>\n",
              "      <td>09/30/2016</td>\n",
              "      <td>23:00:00</td>\n",
              "      <td>DANGEROUS DRUGS</td>\n",
              "      <td>BRONX</td>\n",
              "      <td>40.816872</td>\n",
              "      <td>-73.850685</td>\n",
              "      <td>0</td>\n",
              "    </tr>\n",
              "    <tr>\n",
              "      <th>3</th>\n",
              "      <td>09/30/2016</td>\n",
              "      <td>23:00:00</td>\n",
              "      <td>DANGEROUS WEAPONS</td>\n",
              "      <td>QUEENS</td>\n",
              "      <td>40.696177</td>\n",
              "      <td>-73.804492</td>\n",
              "      <td>2</td>\n",
              "    </tr>\n",
              "    <tr>\n",
              "      <th>4</th>\n",
              "      <td>09/30/2016</td>\n",
              "      <td>23:00:00</td>\n",
              "      <td>HARRASSMENT 2</td>\n",
              "      <td>QUEENS</td>\n",
              "      <td>40.741458</td>\n",
              "      <td>-73.884339</td>\n",
              "      <td>5</td>\n",
              "    </tr>\n",
              "  </tbody>\n",
              "</table>\n",
              "</div>"
            ],
            "text/plain": [
              "         Data      Hora                         Crime    Bairro   Latitude  \\\n",
              "0  09/30/2016  23:25:00             DANGEROUS WEAPONS     BRONX  40.837376   \n",
              "1  09/30/2016  23:16:00  ASSAULT 3 & RELATED OFFENSES  BROOKLYN  40.661205   \n",
              "2  09/30/2016  23:00:00               DANGEROUS DRUGS     BRONX  40.816872   \n",
              "3  09/30/2016  23:00:00             DANGEROUS WEAPONS    QUEENS  40.696177   \n",
              "4  09/30/2016  23:00:00                 HARRASSMENT 2    QUEENS  40.741458   \n",
              "\n",
              "   Longitude  cluster  \n",
              "0 -73.887761        0  \n",
              "1 -73.950687        1  \n",
              "2 -73.850685        0  \n",
              "3 -73.804492        2  \n",
              "4 -73.884339        5  "
            ]
          },
          "metadata": {
            "tags": []
          },
          "execution_count": 29
        }
      ]
    },
    {
      "cell_type": "code",
      "metadata": {
        "id": "rB3WZRKz3_RC",
        "outputId": "973fe5a7-5373-4b5a-cbd1-e5a3341c08a6"
      },
      "source": [
        "q3 = '''\n",
        "select Bairro,Crime, count(*) Total from base where\n",
        "crime like '%Petit%'\n",
        "group by Bairro\n",
        "'''\n",
        "\n",
        "tot_larceny = pd.read_sql_query(q3,engine)\n",
        "print(tot_larceny)\n",
        "plt.rcParams['figure.figsize'] = [5,5]\n",
        "plt.barh(tot_larceny['Bairro'], tot_larceny['Total'])\n",
        "plt.show()"
      ],
      "execution_count": null,
      "outputs": [
        {
          "output_type": "stream",
          "text": [
            "          Bairro          Crime  Total\n",
            "0          BRONX  PETIT LARCENY  11364\n",
            "1       BROOKLYN  PETIT LARCENY  17034\n",
            "2      MANHATTAN  PETIT LARCENY  18560\n",
            "3         QUEENS  PETIT LARCENY  11413\n",
            "4  STATEN ISLAND  PETIT LARCENY   2505\n"
          ],
          "name": "stdout"
        },
        {
          "output_type": "display_data",
          "data": {
            "image/png": "[encoded data removed]",
            "text/plain": [
              "<Figure size 360x360 with 1 Axes>"
            ]
          },
          "metadata": {
            "tags": [],
            "needs_background": "light"
          }
        }
      ]
    },
    {
      "cell_type": "code",
      "metadata": {
        "id": "Vl8z7eFi3_RD",
        "outputId": "af2d2d77-d93b-4e3d-8162-7d95948718f0"
      },
      "source": [
        "q4 = '''\n",
        "select Bairro,Crime, count(*) Total from base where\n",
        "crime like '%Harrassment%'\n",
        "group by Bairro;\n",
        "'''\n",
        "\n",
        "tot_harr = pd.read_sql_query(q4,engine)\n",
        "print(tot_harr)\n",
        "plt.rcParams['figure.figsize'] = [5,5]\n",
        "plt.barh(tot_harr['Bairro'], tot_harr['Total'])\n",
        "plt.show()"
      ],
      "execution_count": null,
      "outputs": [
        {
          "output_type": "stream",
          "text": [
            "          Bairro          Crime  Total\n",
            "0          BRONX  HARRASSMENT 2  11201\n",
            "1       BROOKLYN  HARRASSMENT 2  15190\n",
            "2      MANHATTAN  HARRASSMENT 2  10011\n",
            "3         QUEENS  HARRASSMENT 2  10259\n",
            "4  STATEN ISLAND  HARRASSMENT 2   3244\n"
          ],
          "name": "stdout"
        },
        {
          "output_type": "display_data",
          "data": {
            "image/png": "[encoded data removed]",
            "text/plain": [
              "<Figure size 360x360 with 1 Axes>"
            ]
          },
          "metadata": {
            "tags": [],
            "needs_background": "light"
          }
        }
      ]
    },
    {
      "cell_type": "code",
      "metadata": {
        "id": "_JX1gUUK3_RE",
        "outputId": "d12ece3f-1473-4e46-8aa6-f0d78192880e"
      },
      "source": [
        "delegacias = pd.DataFrame(centroides,columns = ['Latitude','Longitude'])\n",
        "print(delegacias)\n",
        "\n",
        "sns.scatterplot(x=df['Latitude'], y=df['Longitude'], hue=df['Bairro'])\n",
        "sns.scatterplot(x=delegacias['Latitude'], y=delegacias['Longitude'])\n",
        "plt.scatter(centroides[:, 0], centroides[:, 1], c='red', s=200, alpha=0.5)\n",
        "plt.show()"
      ],
      "execution_count": null,
      "outputs": [
        {
          "output_type": "stream",
          "text": [
            "    Latitude  Longitude\n",
            "0  40.839822 -73.897234\n",
            "1  40.640945 -73.971330\n",
            "2  40.694120 -73.790509\n",
            "3  40.754121 -73.972979\n",
            "4  40.602033 -74.128620\n",
            "5  40.693308 -73.901249\n"
          ],
          "name": "stdout"
        },
        {
          "output_type": "display_data",
          "data": {
            "image/png": "[encoded data removed]",
            "text/plain": [
              "<Figure size 360x360 with 1 Axes>"
            ]
          },
          "metadata": {
            "tags": [],
            "needs_background": "light"
          }
        }
      ]
    },
    {
      "cell_type": "markdown",
      "metadata": {
        "id": "AavlPyi83_RE"
      },
      "source": [
        "### Conclusões do projeto\n",
        "\n",
        "Inicialmente na etapa de clusterização, eu havia optado por 4 clustes , porém com 6 o resultado do teste de silhuta se mostrou melhor no agrupamento com os dados totais da amostra, pois assim seria possível prever duas delegacias especializadas em assédio \"Harrasment\" , considerando o volume de crimes dessa natureza.\n",
        "\n",
        "a) Qual o maior núcleo de pequenos assaltos (PETIT LARCENY)? Quais bairros estão envolvidos? \n",
        "\n",
        "\n",
        "MANHATAN concentra o maior número de pequenos assaltos\n",
        "Bairros envolvido: Bronx Brooklyn, Queens, Staten Island\n",
        "\n",
        "\n",
        "b) Aonde devem ser localizadas delegacias especializadas em crimes de assédio HARRASSMENT?\n",
        "\n",
        "Nos seguintes Bairros: Queens, Manhatan, Brooklyn e Bronx\n",
        "\n",
        "\n",
        "\n",
        "c) Considerando todos os crimes, o prefeito deseja saber quantas novas delegacias precisam ser abertas e a exata localização?\n",
        "\n",
        "Nas seguintes coordenadas:\n",
        "\n",
        "C|| Latitude || Longitude\n",
        "\n",
        "0  40.839822 -73.897234||\n",
        "\n",
        "1  40.640945 -73.971330||\n",
        "\n",
        "2  40.694120 -73.790509||\n",
        "\n",
        "3  40.754121 -73.972979||\n",
        "\n",
        "4  40.602033 -74.128620||\n",
        "\n",
        "5  40.693308 -73.901249||"
      ]
    }
  ]
}