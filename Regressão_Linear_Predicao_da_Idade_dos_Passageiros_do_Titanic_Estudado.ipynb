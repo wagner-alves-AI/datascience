{
  "nbformat": 4,
  "nbformat_minor": 0,
  "metadata": {
    "kernelspec": {
      "display_name": "Python 3",
      "language": "python",
      "name": "python3"
    },
    "language_info": {
      "codemirror_mode": {
        "name": "ipython",
        "version": 3
      },
      "file_extension": ".py",
      "mimetype": "text/x-python",
      "name": "python",
      "nbconvert_exporter": "python",
      "pygments_lexer": "ipython3",
      "version": "3.8.3"
    },
    "colab": {
      "name": "Regressão Linear - Predicao da Idade dos Passageiros do Titanic - Estudado.ipynb",
      "provenance": [],
      "include_colab_link": true
    }
  },
  "cells": [
    {
      "cell_type": "markdown",
      "metadata": {
        "id": "view-in-github",
        "colab_type": "text"
      },
      "source": [
        "<a href=\"https://colab.research.google.com/github/wagner-alves-AI/datascience/blob/master/Regress%C3%A3o_Linear_Predicao_da_Idade_dos_Passageiros_do_Titanic_Estudado.ipynb\" target=\"_parent\"><img src=\"https://colab.research.google.com/assets/colab-badge.svg\" alt=\"Open In Colab\"/></a>"
      ]
    },
    {
      "cell_type": "markdown",
      "metadata": {
        "id": "lmhQ59sCO830"
      },
      "source": [
        "# Regressão Linear - Predição da Idade"
      ]
    },
    {
      "cell_type": "markdown",
      "metadata": {
        "id": "guQv6B8DO831"
      },
      "source": [
        "### importar bibliotecas"
      ]
    },
    {
      "cell_type": "code",
      "metadata": {
        "id": "8fP5P0ybO833"
      },
      "source": [
        "import pandas as pd\n",
        "import numpy as np\n",
        "import seaborn as sns\n",
        "import matplotlib.pyplot as plt\n",
        "%matplotlib inline"
      ],
      "execution_count": null,
      "outputs": []
    },
    {
      "cell_type": "markdown",
      "metadata": {
        "id": "IyeL82jQO839"
      },
      "source": [
        "### ler train.csv e test.csv"
      ]
    },
    {
      "cell_type": "code",
      "metadata": {
        "id": "QzEYqONVO83-"
      },
      "source": [
        "train = pd.read_csv('titanic/train.csv')"
      ],
      "execution_count": null,
      "outputs": []
    },
    {
      "cell_type": "code",
      "metadata": {
        "id": "R3jeqq-CO84D"
      },
      "source": [
        "test = pd.read_csv('titanic/test.csv')"
      ],
      "execution_count": null,
      "outputs": []
    },
    {
      "cell_type": "markdown",
      "metadata": {
        "id": "pafHpeFMO84I"
      },
      "source": [
        "### transformar definir o Id do Passageiro como Index"
      ]
    },
    {
      "cell_type": "code",
      "metadata": {
        "id": "eR9dPpLNO84J"
      },
      "source": [
        "train.set_index('PassengerId', inplace=True)"
      ],
      "execution_count": null,
      "outputs": []
    },
    {
      "cell_type": "code",
      "metadata": {
        "id": "LrzEFW23O84O"
      },
      "source": [
        "train"
      ],
      "execution_count": null,
      "outputs": []
    },
    {
      "cell_type": "code",
      "metadata": {
        "id": "HaYSOEsNO84T"
      },
      "source": [
        "test.set_index('PassengerId', inplace=True)"
      ],
      "execution_count": null,
      "outputs": []
    },
    {
      "cell_type": "code",
      "metadata": {
        "id": "OhNmSfGtO84Y"
      },
      "source": [
        "test"
      ],
      "execution_count": null,
      "outputs": []
    },
    {
      "cell_type": "markdown",
      "metadata": {
        "id": "3R5zO1ogO84i"
      },
      "source": [
        "### Verificar shape dos dois"
      ]
    },
    {
      "cell_type": "code",
      "metadata": {
        "id": "L-7bqRaHO84j",
        "outputId": "0a1b3539-43c1-4771-9c82-5daeaa22029d"
      },
      "source": [
        "train.shape, test.shape"
      ],
      "execution_count": null,
      "outputs": [
        {
          "output_type": "execute_result",
          "data": {
            "text/plain": [
              "((891, 11), (418, 10))"
            ]
          },
          "metadata": {
            "tags": []
          },
          "execution_count": 14
        }
      ]
    },
    {
      "cell_type": "markdown",
      "metadata": {
        "id": "ODJdHh2QO84o"
      },
      "source": [
        "### Criar coluna \"Survived\" no test set"
      ]
    },
    {
      "cell_type": "code",
      "metadata": {
        "id": "qhaOP2ivO84p"
      },
      "source": [
        "test['Survived'] = np.nan"
      ],
      "execution_count": null,
      "outputs": []
    },
    {
      "cell_type": "markdown",
      "metadata": {
        "id": "KdfETe8XO84t"
      },
      "source": [
        "### Conferir shape novamente"
      ]
    },
    {
      "cell_type": "code",
      "metadata": {
        "id": "uJzUliV1O84u",
        "outputId": "ef7ddb80-d992-497f-8a4c-d9df0815d614"
      },
      "source": [
        "train.shape, test.shape"
      ],
      "execution_count": null,
      "outputs": [
        {
          "output_type": "execute_result",
          "data": {
            "text/plain": [
              "((891, 11), (418, 11))"
            ]
          },
          "metadata": {
            "tags": []
          },
          "execution_count": 16
        }
      ]
    },
    {
      "cell_type": "markdown",
      "metadata": {
        "id": "Canyi8JFO84z"
      },
      "source": [
        "### Concatenar train e test set"
      ]
    },
    {
      "cell_type": "code",
      "metadata": {
        "id": "NQSIDM5CO840"
      },
      "source": [
        "data = pd.concat([train, test], sort=False)"
      ],
      "execution_count": null,
      "outputs": []
    },
    {
      "cell_type": "code",
      "metadata": {
        "id": "JdQU29uDO844",
        "outputId": "b947c767-408f-4797-894f-4293f593a8f8"
      },
      "source": [
        "data.shape"
      ],
      "execution_count": null,
      "outputs": [
        {
          "output_type": "execute_result",
          "data": {
            "text/plain": [
              "(1309, 11)"
            ]
          },
          "metadata": {
            "tags": []
          },
          "execution_count": 20
        }
      ]
    },
    {
      "cell_type": "code",
      "metadata": {
        "id": "H-ywSRE9O848",
        "outputId": "0f764a20-f58f-4708-afe2-e8bf7a36369b"
      },
      "source": [
        "data.head()"
      ],
      "execution_count": null,
      "outputs": [
        {
          "output_type": "execute_result",
          "data": {
            "text/html": [
              "<div>\n",
              "<style scoped>\n",
              "    .dataframe tbody tr th:only-of-type {\n",
              "        vertical-align: middle;\n",
              "    }\n",
              "\n",
              "    .dataframe tbody tr th {\n",
              "        vertical-align: top;\n",
              "    }\n",
              "\n",
              "    .dataframe thead th {\n",
              "        text-align: right;\n",
              "    }\n",
              "</style>\n",
              "<table border=\"1\" class=\"dataframe\">\n",
              "  <thead>\n",
              "    <tr style=\"text-align: right;\">\n",
              "      <th></th>\n",
              "      <th>Survived</th>\n",
              "      <th>Pclass</th>\n",
              "      <th>Name</th>\n",
              "      <th>Sex</th>\n",
              "      <th>Age</th>\n",
              "      <th>SibSp</th>\n",
              "      <th>Parch</th>\n",
              "      <th>Ticket</th>\n",
              "      <th>Fare</th>\n",
              "      <th>Cabin</th>\n",
              "      <th>Embarked</th>\n",
              "    </tr>\n",
              "    <tr>\n",
              "      <th>PassengerId</th>\n",
              "      <th></th>\n",
              "      <th></th>\n",
              "      <th></th>\n",
              "      <th></th>\n",
              "      <th></th>\n",
              "      <th></th>\n",
              "      <th></th>\n",
              "      <th></th>\n",
              "      <th></th>\n",
              "      <th></th>\n",
              "      <th></th>\n",
              "    </tr>\n",
              "  </thead>\n",
              "  <tbody>\n",
              "    <tr>\n",
              "      <th>1</th>\n",
              "      <td>0.0</td>\n",
              "      <td>3</td>\n",
              "      <td>Braund, Mr. Owen Harris</td>\n",
              "      <td>male</td>\n",
              "      <td>22.0</td>\n",
              "      <td>1</td>\n",
              "      <td>0</td>\n",
              "      <td>A/5 21171</td>\n",
              "      <td>7.2500</td>\n",
              "      <td>NaN</td>\n",
              "      <td>S</td>\n",
              "    </tr>\n",
              "    <tr>\n",
              "      <th>2</th>\n",
              "      <td>1.0</td>\n",
              "      <td>1</td>\n",
              "      <td>Cumings, Mrs. John Bradley (Florence Briggs Th...</td>\n",
              "      <td>female</td>\n",
              "      <td>38.0</td>\n",
              "      <td>1</td>\n",
              "      <td>0</td>\n",
              "      <td>PC 17599</td>\n",
              "      <td>71.2833</td>\n",
              "      <td>C85</td>\n",
              "      <td>C</td>\n",
              "    </tr>\n",
              "    <tr>\n",
              "      <th>3</th>\n",
              "      <td>1.0</td>\n",
              "      <td>3</td>\n",
              "      <td>Heikkinen, Miss. Laina</td>\n",
              "      <td>female</td>\n",
              "      <td>26.0</td>\n",
              "      <td>0</td>\n",
              "      <td>0</td>\n",
              "      <td>STON/O2. 3101282</td>\n",
              "      <td>7.9250</td>\n",
              "      <td>NaN</td>\n",
              "      <td>S</td>\n",
              "    </tr>\n",
              "    <tr>\n",
              "      <th>4</th>\n",
              "      <td>1.0</td>\n",
              "      <td>1</td>\n",
              "      <td>Futrelle, Mrs. Jacques Heath (Lily May Peel)</td>\n",
              "      <td>female</td>\n",
              "      <td>35.0</td>\n",
              "      <td>1</td>\n",
              "      <td>0</td>\n",
              "      <td>113803</td>\n",
              "      <td>53.1000</td>\n",
              "      <td>C123</td>\n",
              "      <td>S</td>\n",
              "    </tr>\n",
              "    <tr>\n",
              "      <th>5</th>\n",
              "      <td>0.0</td>\n",
              "      <td>3</td>\n",
              "      <td>Allen, Mr. William Henry</td>\n",
              "      <td>male</td>\n",
              "      <td>35.0</td>\n",
              "      <td>0</td>\n",
              "      <td>0</td>\n",
              "      <td>373450</td>\n",
              "      <td>8.0500</td>\n",
              "      <td>NaN</td>\n",
              "      <td>S</td>\n",
              "    </tr>\n",
              "  </tbody>\n",
              "</table>\n",
              "</div>"
            ],
            "text/plain": [
              "             Survived  Pclass  \\\n",
              "PassengerId                     \n",
              "1                 0.0       3   \n",
              "2                 1.0       1   \n",
              "3                 1.0       3   \n",
              "4                 1.0       1   \n",
              "5                 0.0       3   \n",
              "\n",
              "                                                          Name     Sex   Age  \\\n",
              "PassengerId                                                                    \n",
              "1                                      Braund, Mr. Owen Harris    male  22.0   \n",
              "2            Cumings, Mrs. John Bradley (Florence Briggs Th...  female  38.0   \n",
              "3                                       Heikkinen, Miss. Laina  female  26.0   \n",
              "4                 Futrelle, Mrs. Jacques Heath (Lily May Peel)  female  35.0   \n",
              "5                                     Allen, Mr. William Henry    male  35.0   \n",
              "\n",
              "             SibSp  Parch            Ticket     Fare Cabin Embarked  \n",
              "PassengerId                                                          \n",
              "1                1      0         A/5 21171   7.2500   NaN        S  \n",
              "2                1      0          PC 17599  71.2833   C85        C  \n",
              "3                0      0  STON/O2. 3101282   7.9250   NaN        S  \n",
              "4                1      0            113803  53.1000  C123        S  \n",
              "5                0      0            373450   8.0500   NaN        S  "
            ]
          },
          "metadata": {
            "tags": []
          },
          "execution_count": 22
        }
      ]
    },
    {
      "cell_type": "markdown",
      "metadata": {
        "id": "gBZvpkeaO85A"
      },
      "source": [
        "### Traduzir colunas"
      ]
    },
    {
      "cell_type": "code",
      "metadata": {
        "id": "GaYPASInO85B",
        "outputId": "e516849b-d70d-411d-a08e-749003b7e9cb"
      },
      "source": [
        "data.columns"
      ],
      "execution_count": null,
      "outputs": [
        {
          "output_type": "execute_result",
          "data": {
            "text/plain": [
              "Index(['Survived', 'Pclass', 'Name', 'Sex', 'Age', 'SibSp', 'Parch', 'Ticket',\n",
              "       'Fare', 'Cabin', 'Embarked'],\n",
              "      dtype='object')"
            ]
          },
          "metadata": {
            "tags": []
          },
          "execution_count": 23
        }
      ]
    },
    {
      "cell_type": "code",
      "metadata": {
        "id": "4CPfOD_2O85G"
      },
      "source": [
        "data.columns = ['Sobreviveu', 'Classe', 'Nome', 'Sexo', 'Idade', 'IrmaoConjuge', 'PaisFilhos', 'Bilhete',\n",
        "       'Tarifa', 'Cabine', 'Embarque']"
      ],
      "execution_count": null,
      "outputs": []
    },
    {
      "cell_type": "code",
      "metadata": {
        "id": "yorWN3zIO85K",
        "outputId": "0aec923b-0bce-4100-bfeb-9b96bb535180"
      },
      "source": [
        "data.head()"
      ],
      "execution_count": null,
      "outputs": [
        {
          "output_type": "execute_result",
          "data": {
            "text/html": [
              "<div>\n",
              "<style scoped>\n",
              "    .dataframe tbody tr th:only-of-type {\n",
              "        vertical-align: middle;\n",
              "    }\n",
              "\n",
              "    .dataframe tbody tr th {\n",
              "        vertical-align: top;\n",
              "    }\n",
              "\n",
              "    .dataframe thead th {\n",
              "        text-align: right;\n",
              "    }\n",
              "</style>\n",
              "<table border=\"1\" class=\"dataframe\">\n",
              "  <thead>\n",
              "    <tr style=\"text-align: right;\">\n",
              "      <th></th>\n",
              "      <th>Sobreviveu</th>\n",
              "      <th>Classe</th>\n",
              "      <th>Nome</th>\n",
              "      <th>Sexo</th>\n",
              "      <th>Idade</th>\n",
              "      <th>IrmaoConjuge</th>\n",
              "      <th>PaisFilhos</th>\n",
              "      <th>Bilhete</th>\n",
              "      <th>Tarifa</th>\n",
              "      <th>Cabine</th>\n",
              "      <th>Embarque</th>\n",
              "    </tr>\n",
              "    <tr>\n",
              "      <th>PassengerId</th>\n",
              "      <th></th>\n",
              "      <th></th>\n",
              "      <th></th>\n",
              "      <th></th>\n",
              "      <th></th>\n",
              "      <th></th>\n",
              "      <th></th>\n",
              "      <th></th>\n",
              "      <th></th>\n",
              "      <th></th>\n",
              "      <th></th>\n",
              "    </tr>\n",
              "  </thead>\n",
              "  <tbody>\n",
              "    <tr>\n",
              "      <th>1</th>\n",
              "      <td>0.0</td>\n",
              "      <td>3</td>\n",
              "      <td>Braund, Mr. Owen Harris</td>\n",
              "      <td>male</td>\n",
              "      <td>22.0</td>\n",
              "      <td>1</td>\n",
              "      <td>0</td>\n",
              "      <td>A/5 21171</td>\n",
              "      <td>7.2500</td>\n",
              "      <td>NaN</td>\n",
              "      <td>S</td>\n",
              "    </tr>\n",
              "    <tr>\n",
              "      <th>2</th>\n",
              "      <td>1.0</td>\n",
              "      <td>1</td>\n",
              "      <td>Cumings, Mrs. John Bradley (Florence Briggs Th...</td>\n",
              "      <td>female</td>\n",
              "      <td>38.0</td>\n",
              "      <td>1</td>\n",
              "      <td>0</td>\n",
              "      <td>PC 17599</td>\n",
              "      <td>71.2833</td>\n",
              "      <td>C85</td>\n",
              "      <td>C</td>\n",
              "    </tr>\n",
              "    <tr>\n",
              "      <th>3</th>\n",
              "      <td>1.0</td>\n",
              "      <td>3</td>\n",
              "      <td>Heikkinen, Miss. Laina</td>\n",
              "      <td>female</td>\n",
              "      <td>26.0</td>\n",
              "      <td>0</td>\n",
              "      <td>0</td>\n",
              "      <td>STON/O2. 3101282</td>\n",
              "      <td>7.9250</td>\n",
              "      <td>NaN</td>\n",
              "      <td>S</td>\n",
              "    </tr>\n",
              "    <tr>\n",
              "      <th>4</th>\n",
              "      <td>1.0</td>\n",
              "      <td>1</td>\n",
              "      <td>Futrelle, Mrs. Jacques Heath (Lily May Peel)</td>\n",
              "      <td>female</td>\n",
              "      <td>35.0</td>\n",
              "      <td>1</td>\n",
              "      <td>0</td>\n",
              "      <td>113803</td>\n",
              "      <td>53.1000</td>\n",
              "      <td>C123</td>\n",
              "      <td>S</td>\n",
              "    </tr>\n",
              "    <tr>\n",
              "      <th>5</th>\n",
              "      <td>0.0</td>\n",
              "      <td>3</td>\n",
              "      <td>Allen, Mr. William Henry</td>\n",
              "      <td>male</td>\n",
              "      <td>35.0</td>\n",
              "      <td>0</td>\n",
              "      <td>0</td>\n",
              "      <td>373450</td>\n",
              "      <td>8.0500</td>\n",
              "      <td>NaN</td>\n",
              "      <td>S</td>\n",
              "    </tr>\n",
              "  </tbody>\n",
              "</table>\n",
              "</div>"
            ],
            "text/plain": [
              "             Sobreviveu  Classe  \\\n",
              "PassengerId                       \n",
              "1                   0.0       3   \n",
              "2                   1.0       1   \n",
              "3                   1.0       3   \n",
              "4                   1.0       1   \n",
              "5                   0.0       3   \n",
              "\n",
              "                                                          Nome    Sexo  Idade  \\\n",
              "PassengerId                                                                     \n",
              "1                                      Braund, Mr. Owen Harris    male   22.0   \n",
              "2            Cumings, Mrs. John Bradley (Florence Briggs Th...  female   38.0   \n",
              "3                                       Heikkinen, Miss. Laina  female   26.0   \n",
              "4                 Futrelle, Mrs. Jacques Heath (Lily May Peel)  female   35.0   \n",
              "5                                     Allen, Mr. William Henry    male   35.0   \n",
              "\n",
              "             IrmaoConjuge  PaisFilhos           Bilhete   Tarifa Cabine  \\\n",
              "PassengerId                                                               \n",
              "1                       1           0         A/5 21171   7.2500    NaN   \n",
              "2                       1           0          PC 17599  71.2833    C85   \n",
              "3                       0           0  STON/O2. 3101282   7.9250    NaN   \n",
              "4                       1           0            113803  53.1000   C123   \n",
              "5                       0           0            373450   8.0500    NaN   \n",
              "\n",
              "            Embarque  \n",
              "PassengerId           \n",
              "1                  S  \n",
              "2                  C  \n",
              "3                  S  \n",
              "4                  S  \n",
              "5                  S  "
            ]
          },
          "metadata": {
            "tags": []
          },
          "execution_count": 31
        }
      ]
    },
    {
      "cell_type": "markdown",
      "metadata": {
        "id": "AZok0uQ9O85P"
      },
      "source": [
        "### Traduzir Sexo"
      ]
    },
    {
      "cell_type": "code",
      "metadata": {
        "id": "CLeDyV3FO85Q"
      },
      "source": [
        "data['Sexo'] = data['Sexo'].map({'male':'homem', 'female': 'mulher'})"
      ],
      "execution_count": null,
      "outputs": []
    },
    {
      "cell_type": "code",
      "metadata": {
        "id": "7DACZk1TO85U",
        "outputId": "9fa5e258-0930-4fce-d66b-a0fbbcab2a1e"
      },
      "source": [
        "data.head()"
      ],
      "execution_count": null,
      "outputs": [
        {
          "output_type": "execute_result",
          "data": {
            "text/html": [
              "<div>\n",
              "<style scoped>\n",
              "    .dataframe tbody tr th:only-of-type {\n",
              "        vertical-align: middle;\n",
              "    }\n",
              "\n",
              "    .dataframe tbody tr th {\n",
              "        vertical-align: top;\n",
              "    }\n",
              "\n",
              "    .dataframe thead th {\n",
              "        text-align: right;\n",
              "    }\n",
              "</style>\n",
              "<table border=\"1\" class=\"dataframe\">\n",
              "  <thead>\n",
              "    <tr style=\"text-align: right;\">\n",
              "      <th></th>\n",
              "      <th>Sobreviveu</th>\n",
              "      <th>Classe</th>\n",
              "      <th>Nome</th>\n",
              "      <th>Sexo</th>\n",
              "      <th>Idade</th>\n",
              "      <th>IrmaoConjuge</th>\n",
              "      <th>PaisFilhos</th>\n",
              "      <th>Bilhete</th>\n",
              "      <th>Tarifa</th>\n",
              "      <th>Cabine</th>\n",
              "      <th>Embarque</th>\n",
              "    </tr>\n",
              "    <tr>\n",
              "      <th>PassengerId</th>\n",
              "      <th></th>\n",
              "      <th></th>\n",
              "      <th></th>\n",
              "      <th></th>\n",
              "      <th></th>\n",
              "      <th></th>\n",
              "      <th></th>\n",
              "      <th></th>\n",
              "      <th></th>\n",
              "      <th></th>\n",
              "      <th></th>\n",
              "    </tr>\n",
              "  </thead>\n",
              "  <tbody>\n",
              "    <tr>\n",
              "      <th>1</th>\n",
              "      <td>0.0</td>\n",
              "      <td>3</td>\n",
              "      <td>Braund, Mr. Owen Harris</td>\n",
              "      <td>homem</td>\n",
              "      <td>22.0</td>\n",
              "      <td>1</td>\n",
              "      <td>0</td>\n",
              "      <td>A/5 21171</td>\n",
              "      <td>7.2500</td>\n",
              "      <td>NaN</td>\n",
              "      <td>S</td>\n",
              "    </tr>\n",
              "    <tr>\n",
              "      <th>2</th>\n",
              "      <td>1.0</td>\n",
              "      <td>1</td>\n",
              "      <td>Cumings, Mrs. John Bradley (Florence Briggs Th...</td>\n",
              "      <td>mulher</td>\n",
              "      <td>38.0</td>\n",
              "      <td>1</td>\n",
              "      <td>0</td>\n",
              "      <td>PC 17599</td>\n",
              "      <td>71.2833</td>\n",
              "      <td>C85</td>\n",
              "      <td>C</td>\n",
              "    </tr>\n",
              "    <tr>\n",
              "      <th>3</th>\n",
              "      <td>1.0</td>\n",
              "      <td>3</td>\n",
              "      <td>Heikkinen, Miss. Laina</td>\n",
              "      <td>mulher</td>\n",
              "      <td>26.0</td>\n",
              "      <td>0</td>\n",
              "      <td>0</td>\n",
              "      <td>STON/O2. 3101282</td>\n",
              "      <td>7.9250</td>\n",
              "      <td>NaN</td>\n",
              "      <td>S</td>\n",
              "    </tr>\n",
              "    <tr>\n",
              "      <th>4</th>\n",
              "      <td>1.0</td>\n",
              "      <td>1</td>\n",
              "      <td>Futrelle, Mrs. Jacques Heath (Lily May Peel)</td>\n",
              "      <td>mulher</td>\n",
              "      <td>35.0</td>\n",
              "      <td>1</td>\n",
              "      <td>0</td>\n",
              "      <td>113803</td>\n",
              "      <td>53.1000</td>\n",
              "      <td>C123</td>\n",
              "      <td>S</td>\n",
              "    </tr>\n",
              "    <tr>\n",
              "      <th>5</th>\n",
              "      <td>0.0</td>\n",
              "      <td>3</td>\n",
              "      <td>Allen, Mr. William Henry</td>\n",
              "      <td>homem</td>\n",
              "      <td>35.0</td>\n",
              "      <td>0</td>\n",
              "      <td>0</td>\n",
              "      <td>373450</td>\n",
              "      <td>8.0500</td>\n",
              "      <td>NaN</td>\n",
              "      <td>S</td>\n",
              "    </tr>\n",
              "  </tbody>\n",
              "</table>\n",
              "</div>"
            ],
            "text/plain": [
              "             Sobreviveu  Classe  \\\n",
              "PassengerId                       \n",
              "1                   0.0       3   \n",
              "2                   1.0       1   \n",
              "3                   1.0       3   \n",
              "4                   1.0       1   \n",
              "5                   0.0       3   \n",
              "\n",
              "                                                          Nome    Sexo  Idade  \\\n",
              "PassengerId                                                                     \n",
              "1                                      Braund, Mr. Owen Harris   homem   22.0   \n",
              "2            Cumings, Mrs. John Bradley (Florence Briggs Th...  mulher   38.0   \n",
              "3                                       Heikkinen, Miss. Laina  mulher   26.0   \n",
              "4                 Futrelle, Mrs. Jacques Heath (Lily May Peel)  mulher   35.0   \n",
              "5                                     Allen, Mr. William Henry   homem   35.0   \n",
              "\n",
              "             IrmaoConjuge  PaisFilhos           Bilhete   Tarifa Cabine  \\\n",
              "PassengerId                                                               \n",
              "1                       1           0         A/5 21171   7.2500    NaN   \n",
              "2                       1           0          PC 17599  71.2833    C85   \n",
              "3                       0           0  STON/O2. 3101282   7.9250    NaN   \n",
              "4                       1           0            113803  53.1000   C123   \n",
              "5                       0           0            373450   8.0500    NaN   \n",
              "\n",
              "            Embarque  \n",
              "PassengerId           \n",
              "1                  S  \n",
              "2                  C  \n",
              "3                  S  \n",
              "4                  S  \n",
              "5                  S  "
            ]
          },
          "metadata": {
            "tags": []
          },
          "execution_count": 34
        }
      ]
    },
    {
      "cell_type": "markdown",
      "metadata": {
        "id": "SPMZjGHWO85Y"
      },
      "source": [
        "### Averiguar dados nulos"
      ]
    },
    {
      "cell_type": "code",
      "metadata": {
        "id": "tDa5iyh_O85Z",
        "outputId": "99c5a0ce-015a-41b7-c0e5-aa1abdecdf11"
      },
      "source": [
        "data.isnull().sum()"
      ],
      "execution_count": null,
      "outputs": [
        {
          "output_type": "execute_result",
          "data": {
            "text/plain": [
              "Sobreviveu      418\n",
              "Classe            0\n",
              "Nome              0\n",
              "Sexo              0\n",
              "Idade           263\n",
              "IrmaoConjuge      0\n",
              "PaisFilhos        0\n",
              "Bilhete           0\n",
              "Tarifa            1\n",
              "Embarque          2\n",
              "dtype: int64"
            ]
          },
          "metadata": {
            "tags": []
          },
          "execution_count": 37
        }
      ]
    },
    {
      "cell_type": "markdown",
      "metadata": {
        "id": "pGo_vZF9O85d"
      },
      "source": [
        "### Remover Cabine"
      ]
    },
    {
      "cell_type": "code",
      "metadata": {
        "id": "8zFyfZfOO85e"
      },
      "source": [
        "data.drop('Cabine', axis=1, inplace=True)"
      ],
      "execution_count": null,
      "outputs": []
    },
    {
      "cell_type": "markdown",
      "metadata": {
        "id": "lj7XVZVNO85i"
      },
      "source": [
        "### Checar dados nulos novamente"
      ]
    },
    {
      "cell_type": "code",
      "metadata": {
        "id": "lhg9jssPO85i",
        "outputId": "12058915-e989-4058-f9c4-7312312b21f8"
      },
      "source": [
        "data.isnull().sum()"
      ],
      "execution_count": null,
      "outputs": [
        {
          "output_type": "execute_result",
          "data": {
            "text/plain": [
              "Sobreviveu      418\n",
              "Classe            0\n",
              "Nome              0\n",
              "Sexo              0\n",
              "Idade           263\n",
              "IrmaoConjuge      0\n",
              "PaisFilhos        0\n",
              "Bilhete           0\n",
              "Tarifa            1\n",
              "Embarque          2\n",
              "dtype: int64"
            ]
          },
          "metadata": {
            "tags": []
          },
          "execution_count": 38
        }
      ]
    },
    {
      "cell_type": "markdown",
      "metadata": {
        "id": "0qw4dsm3O85n"
      },
      "source": [
        "### Preencher dados nulos de \"Embarque\" com a moda"
      ]
    },
    {
      "cell_type": "code",
      "metadata": {
        "id": "4Cx1ezz4O85o",
        "outputId": "90de0a3d-48eb-4c3a-f484-7abf8ecf2fa9"
      },
      "source": [
        "data['Embarque'].unique()"
      ],
      "execution_count": null,
      "outputs": [
        {
          "output_type": "execute_result",
          "data": {
            "text/plain": [
              "array(['S', 'C', 'Q', nan], dtype=object)"
            ]
          },
          "metadata": {
            "tags": []
          },
          "execution_count": 39
        }
      ]
    },
    {
      "cell_type": "code",
      "metadata": {
        "id": "boxXX5FyO85t",
        "outputId": "24e25c93-94a1-4d43-f38b-89ca292f8eb2"
      },
      "source": [
        "moda = data['Embarque'].mode()[0]\n",
        "moda"
      ],
      "execution_count": null,
      "outputs": [
        {
          "output_type": "execute_result",
          "data": {
            "text/plain": [
              "'S'"
            ]
          },
          "metadata": {
            "tags": []
          },
          "execution_count": 43
        }
      ]
    },
    {
      "cell_type": "code",
      "metadata": {
        "id": "sub3GXJGO85y"
      },
      "source": [
        "data['Embarque'].fillna(moda, inplace=True)"
      ],
      "execution_count": null,
      "outputs": []
    },
    {
      "cell_type": "markdown",
      "metadata": {
        "id": "dudI0Op8O853"
      },
      "source": [
        "### Checar dados nulos novamente"
      ]
    },
    {
      "cell_type": "code",
      "metadata": {
        "id": "SMA5EKP7O854",
        "outputId": "ba55ed70-aa54-41fd-a909-eb14133d3273"
      },
      "source": [
        "data.isnull().sum()"
      ],
      "execution_count": null,
      "outputs": [
        {
          "output_type": "execute_result",
          "data": {
            "text/plain": [
              "Sobreviveu      418\n",
              "Classe            0\n",
              "Nome              0\n",
              "Sexo              0\n",
              "Idade           263\n",
              "IrmaoConjuge      0\n",
              "PaisFilhos        0\n",
              "Bilhete           0\n",
              "Tarifa            1\n",
              "Embarque          0\n",
              "dtype: int64"
            ]
          },
          "metadata": {
            "tags": []
          },
          "execution_count": 46
        }
      ]
    },
    {
      "cell_type": "markdown",
      "metadata": {
        "id": "z051t-irO85_"
      },
      "source": [
        "### Preencher \"Tarifa\" faltando com a média"
      ]
    },
    {
      "cell_type": "code",
      "metadata": {
        "id": "lQDUDrOQO86A",
        "outputId": "e49ef4c8-630e-4d6b-b1b6-011d4403c6ee"
      },
      "source": [
        "media = data['Tarifa'].mean()\n",
        "media"
      ],
      "execution_count": null,
      "outputs": [
        {
          "output_type": "execute_result",
          "data": {
            "text/plain": [
              "33.2954792813456"
            ]
          },
          "metadata": {
            "tags": []
          },
          "execution_count": 49
        }
      ]
    },
    {
      "cell_type": "code",
      "metadata": {
        "id": "LldwhtMXO86F"
      },
      "source": [
        "data['Tarifa'].fillna(media, inplace=True)"
      ],
      "execution_count": null,
      "outputs": []
    },
    {
      "cell_type": "markdown",
      "metadata": {
        "id": "drGW40TXO86I"
      },
      "source": [
        "### Checar dados nulos"
      ]
    },
    {
      "cell_type": "code",
      "metadata": {
        "id": "chAcQXOxO86L",
        "outputId": "d9d1c2e8-821d-44e4-927c-9b88b07ec5e1"
      },
      "source": [
        "data.isnull().sum()"
      ],
      "execution_count": null,
      "outputs": [
        {
          "output_type": "execute_result",
          "data": {
            "text/plain": [
              "Sobreviveu      418\n",
              "Classe            0\n",
              "Nome              0\n",
              "Sexo              0\n",
              "Idade           263\n",
              "IrmaoConjuge      0\n",
              "PaisFilhos        0\n",
              "Bilhete           0\n",
              "Tarifa            0\n",
              "Embarque          0\n",
              "dtype: int64"
            ]
          },
          "metadata": {
            "tags": []
          },
          "execution_count": 51
        }
      ]
    },
    {
      "cell_type": "markdown",
      "metadata": {
        "id": "KTfil72FO86P"
      },
      "source": [
        "### Verificar correlações"
      ]
    },
    {
      "cell_type": "code",
      "metadata": {
        "id": "nCh7P2fyO86Q",
        "outputId": "689c4cb3-a04f-4cbc-df9b-7b0c3de51ddd"
      },
      "source": [
        "data.corr()"
      ],
      "execution_count": null,
      "outputs": [
        {
          "output_type": "execute_result",
          "data": {
            "text/html": [
              "<div>\n",
              "<style scoped>\n",
              "    .dataframe tbody tr th:only-of-type {\n",
              "        vertical-align: middle;\n",
              "    }\n",
              "\n",
              "    .dataframe tbody tr th {\n",
              "        vertical-align: top;\n",
              "    }\n",
              "\n",
              "    .dataframe thead th {\n",
              "        text-align: right;\n",
              "    }\n",
              "</style>\n",
              "<table border=\"1\" class=\"dataframe\">\n",
              "  <thead>\n",
              "    <tr style=\"text-align: right;\">\n",
              "      <th></th>\n",
              "      <th>Sobreviveu</th>\n",
              "      <th>Classe</th>\n",
              "      <th>Idade</th>\n",
              "      <th>IrmaoConjuge</th>\n",
              "      <th>PaisFilhos</th>\n",
              "      <th>Tarifa</th>\n",
              "    </tr>\n",
              "  </thead>\n",
              "  <tbody>\n",
              "    <tr>\n",
              "      <th>Sobreviveu</th>\n",
              "      <td>1.000000</td>\n",
              "      <td>-0.338481</td>\n",
              "      <td>-0.077221</td>\n",
              "      <td>-0.035322</td>\n",
              "      <td>0.081629</td>\n",
              "      <td>0.257307</td>\n",
              "    </tr>\n",
              "    <tr>\n",
              "      <th>Classe</th>\n",
              "      <td>-0.338481</td>\n",
              "      <td>1.000000</td>\n",
              "      <td>-0.408106</td>\n",
              "      <td>0.060832</td>\n",
              "      <td>0.018322</td>\n",
              "      <td>-0.558477</td>\n",
              "    </tr>\n",
              "    <tr>\n",
              "      <th>Idade</th>\n",
              "      <td>-0.077221</td>\n",
              "      <td>-0.408106</td>\n",
              "      <td>1.000000</td>\n",
              "      <td>-0.243699</td>\n",
              "      <td>-0.150917</td>\n",
              "      <td>0.178229</td>\n",
              "    </tr>\n",
              "    <tr>\n",
              "      <th>IrmaoConjuge</th>\n",
              "      <td>-0.035322</td>\n",
              "      <td>0.060832</td>\n",
              "      <td>-0.243699</td>\n",
              "      <td>1.000000</td>\n",
              "      <td>0.373587</td>\n",
              "      <td>0.160224</td>\n",
              "    </tr>\n",
              "    <tr>\n",
              "      <th>PaisFilhos</th>\n",
              "      <td>0.081629</td>\n",
              "      <td>0.018322</td>\n",
              "      <td>-0.150917</td>\n",
              "      <td>0.373587</td>\n",
              "      <td>1.000000</td>\n",
              "      <td>0.221522</td>\n",
              "    </tr>\n",
              "    <tr>\n",
              "      <th>Tarifa</th>\n",
              "      <td>0.257307</td>\n",
              "      <td>-0.558477</td>\n",
              "      <td>0.178229</td>\n",
              "      <td>0.160224</td>\n",
              "      <td>0.221522</td>\n",
              "      <td>1.000000</td>\n",
              "    </tr>\n",
              "  </tbody>\n",
              "</table>\n",
              "</div>"
            ],
            "text/plain": [
              "              Sobreviveu    Classe     Idade  IrmaoConjuge  PaisFilhos  \\\n",
              "Sobreviveu      1.000000 -0.338481 -0.077221     -0.035322    0.081629   \n",
              "Classe         -0.338481  1.000000 -0.408106      0.060832    0.018322   \n",
              "Idade          -0.077221 -0.408106  1.000000     -0.243699   -0.150917   \n",
              "IrmaoConjuge   -0.035322  0.060832 -0.243699      1.000000    0.373587   \n",
              "PaisFilhos      0.081629  0.018322 -0.150917      0.373587    1.000000   \n",
              "Tarifa          0.257307 -0.558477  0.178229      0.160224    0.221522   \n",
              "\n",
              "                Tarifa  \n",
              "Sobreviveu    0.257307  \n",
              "Classe       -0.558477  \n",
              "Idade         0.178229  \n",
              "IrmaoConjuge  0.160224  \n",
              "PaisFilhos    0.221522  \n",
              "Tarifa        1.000000  "
            ]
          },
          "metadata": {
            "tags": []
          },
          "execution_count": 52
        }
      ]
    },
    {
      "cell_type": "markdown",
      "metadata": {
        "id": "6iFI3-kVO86T"
      },
      "source": [
        "### Visualizar correlações com \"heatmap\""
      ]
    },
    {
      "cell_type": "code",
      "metadata": {
        "id": "eY3OHMaIO86U",
        "outputId": "2a3103e5-b92f-4569-a148-a8d353af284c"
      },
      "source": [
        "f, ax = plt.subplots(dpi=100)\n",
        "sns.heatmap(data.corr(), annot=True, cmap='OrRd')\n",
        "plt.show()"
      ],
      "execution_count": null,
      "outputs": [
        {
          "output_type": "display_data",
          "data": {
            "image/png": "[encoded data removed]",
            "text/plain": [
              "<Figure size 600x400 with 2 Axes>"
            ]
          },
          "metadata": {
            "tags": [],
            "needs_background": "light"
          }
        }
      ]
    },
    {
      "cell_type": "markdown",
      "metadata": {
        "id": "ok7URm2cO86Y"
      },
      "source": [
        "### Remover coluna \"Sobreviveu\"\n",
        "Aparentemente não tem muita correlação com Idade, e está faltando bastante dados"
      ]
    },
    {
      "cell_type": "code",
      "metadata": {
        "id": "M5iisGuqO86Z"
      },
      "source": [
        "data.drop('Sobreviveu', axis=1, inplace=True)"
      ],
      "execution_count": null,
      "outputs": []
    },
    {
      "cell_type": "markdown",
      "metadata": {
        "id": "t8EZp8E7O86e"
      },
      "source": [
        "### Checar dados nulos"
      ]
    },
    {
      "cell_type": "code",
      "metadata": {
        "id": "GUHdPeYzO86f",
        "outputId": "b5b254dd-c8f1-4f4d-ff20-a5b0f0ec67fe"
      },
      "source": [
        "data.isnull().sum()"
      ],
      "execution_count": null,
      "outputs": [
        {
          "output_type": "execute_result",
          "data": {
            "text/plain": [
              "Classe            0\n",
              "Nome              0\n",
              "Sexo              0\n",
              "Idade           263\n",
              "IrmaoConjuge      0\n",
              "PaisFilhos        0\n",
              "Bilhete           0\n",
              "Tarifa            0\n",
              "Embarque          0\n",
              "dtype: int64"
            ]
          },
          "metadata": {
            "tags": []
          },
          "execution_count": 59
        }
      ]
    },
    {
      "cell_type": "markdown",
      "metadata": {
        "id": "ZPJv7monO86j"
      },
      "source": [
        "# Engenharia de Recursos I"
      ]
    },
    {
      "cell_type": "markdown",
      "metadata": {
        "id": "npZk-90XO86k"
      },
      "source": [
        "### Criar coluna \"Titulo\" baseando-se na coluna \"Nome\""
      ]
    },
    {
      "cell_type": "code",
      "metadata": {
        "id": "53icGLHdO86l"
      },
      "source": [
        "data['Título'] = data['Nome'].str.extract('([a-zA-Z]+)\\.')"
      ],
      "execution_count": null,
      "outputs": []
    },
    {
      "cell_type": "code",
      "metadata": {
        "id": "8pORE2DCO86p",
        "outputId": "cf81f752-ab94-43e2-8048-91448a1363c0"
      },
      "source": [
        "data['Título'].unique()"
      ],
      "execution_count": null,
      "outputs": [
        {
          "output_type": "execute_result",
          "data": {
            "text/plain": [
              "array(['Mr', 'Mrs', 'Miss', 'Master', 'Don', 'Rev', 'Dr', 'Mme', 'Ms',\n",
              "       'Major', 'Lady', 'Sir', 'Mlle', 'Col', 'Capt', 'Countess',\n",
              "       'Jonkheer', 'Dona'], dtype=object)"
            ]
          },
          "metadata": {
            "tags": []
          },
          "execution_count": 67
        }
      ]
    },
    {
      "cell_type": "code",
      "metadata": {
        "id": "fN5wrBTdO86s",
        "outputId": "9a94a075-e81c-463b-8b19-07ee1dca325f"
      },
      "source": [
        "pd.crosstab(data['Titulo'], data['Sexo'])"
      ],
      "execution_count": null,
      "outputs": [
        {
          "output_type": "execute_result",
          "data": {
            "text/html": [
              "<div>\n",
              "<style scoped>\n",
              "    .dataframe tbody tr th:only-of-type {\n",
              "        vertical-align: middle;\n",
              "    }\n",
              "\n",
              "    .dataframe tbody tr th {\n",
              "        vertical-align: top;\n",
              "    }\n",
              "\n",
              "    .dataframe thead th {\n",
              "        text-align: right;\n",
              "    }\n",
              "</style>\n",
              "<table border=\"1\" class=\"dataframe\">\n",
              "  <thead>\n",
              "    <tr style=\"text-align: right;\">\n",
              "      <th>Sexo</th>\n",
              "      <th>homem</th>\n",
              "      <th>mulher</th>\n",
              "    </tr>\n",
              "    <tr>\n",
              "      <th>Titulo</th>\n",
              "      <th></th>\n",
              "      <th></th>\n",
              "    </tr>\n",
              "  </thead>\n",
              "  <tbody>\n",
              "    <tr>\n",
              "      <th>Master</th>\n",
              "      <td>61</td>\n",
              "      <td>0</td>\n",
              "    </tr>\n",
              "    <tr>\n",
              "      <th>Miss</th>\n",
              "      <td>0</td>\n",
              "      <td>260</td>\n",
              "    </tr>\n",
              "    <tr>\n",
              "      <th>Mr</th>\n",
              "      <td>757</td>\n",
              "      <td>0</td>\n",
              "    </tr>\n",
              "    <tr>\n",
              "      <th>Mrs</th>\n",
              "      <td>0</td>\n",
              "      <td>197</td>\n",
              "    </tr>\n",
              "    <tr>\n",
              "      <th>Outros</th>\n",
              "      <td>25</td>\n",
              "      <td>9</td>\n",
              "    </tr>\n",
              "  </tbody>\n",
              "</table>\n",
              "</div>"
            ],
            "text/plain": [
              "Sexo    homem  mulher\n",
              "Titulo               \n",
              "Master     61       0\n",
              "Miss        0     260\n",
              "Mr        757       0\n",
              "Mrs         0     197\n",
              "Outros     25       9"
            ]
          },
          "metadata": {
            "tags": []
          },
          "execution_count": 75
        }
      ]
    },
    {
      "cell_type": "code",
      "metadata": {
        "id": "MHVUyYq2O86w",
        "outputId": "9382a0e6-8746-4f7c-ed44-2c5a93b8a6d3"
      },
      "source": [
        "['Miss','Master','Mr','Mrs']"
      ],
      "execution_count": null,
      "outputs": [
        {
          "output_type": "execute_result",
          "data": {
            "text/plain": [
              "Index(['Classe', 'Nome', 'Sexo', 'Idade', 'IrmaoConjuge', 'PaisFilhos',\n",
              "       'Bilhete', 'Tarifa', 'Embarque', 'Titulo'],\n",
              "      dtype='object')"
            ]
          },
          "metadata": {
            "tags": []
          },
          "execution_count": 71
        }
      ]
    },
    {
      "cell_type": "code",
      "metadata": {
        "id": "kKjy5J3UO860"
      },
      "source": [
        "data['Titulo'] = data['Titulo'].apply(lambda x: 'Outros' if x not in ['Miss','Master','Mr','Mrs'] else x)"
      ],
      "execution_count": null,
      "outputs": []
    },
    {
      "cell_type": "markdown",
      "metadata": {
        "id": "BrbvgVMfO867"
      },
      "source": [
        "### Traduzir \"Titulos\""
      ]
    },
    {
      "cell_type": "code",
      "metadata": {
        "id": "PFKV5PpOO868"
      },
      "source": [
        "titulos_traduzidos = {\n",
        "    'Master':'Menino',\n",
        "    'Miss' : 'Solteira',\n",
        "    'Mr' : 'HomemAdulto',\n",
        "    'Mrs': 'Casada'\n",
        "}"
      ],
      "execution_count": null,
      "outputs": []
    },
    {
      "cell_type": "code",
      "metadata": {
        "id": "NjUfOy3nO87A"
      },
      "source": [
        "data['Titulo'] = data['Titulo'].map(titulos_traduzidos)"
      ],
      "execution_count": null,
      "outputs": []
    },
    {
      "cell_type": "code",
      "metadata": {
        "id": "Kkexk4ewO87H"
      },
      "source": [
        ""
      ],
      "execution_count": null,
      "outputs": []
    },
    {
      "cell_type": "markdown",
      "metadata": {
        "id": "ngtIrB3hO87M"
      },
      "source": [
        "### Averiguar informações do DataFrame"
      ]
    },
    {
      "cell_type": "code",
      "metadata": {
        "id": "3cs5dbPrO87O",
        "outputId": "1d466753-329c-4559-b23e-ded771b1bdbc"
      },
      "source": [
        "data.info()"
      ],
      "execution_count": null,
      "outputs": [
        {
          "output_type": "stream",
          "text": [
            "<class 'pandas.core.frame.DataFrame'>\n",
            "Int64Index: 1309 entries, 1 to 1309\n",
            "Data columns (total 10 columns):\n",
            " #   Column        Non-Null Count  Dtype  \n",
            "---  ------        --------------  -----  \n",
            " 0   Classe        1309 non-null   int64  \n",
            " 1   Nome          1309 non-null   object \n",
            " 2   Sexo          1309 non-null   object \n",
            " 3   Idade         1046 non-null   float64\n",
            " 4   IrmaoConjuge  1309 non-null   int64  \n",
            " 5   PaisFilhos    1309 non-null   int64  \n",
            " 6   Bilhete       1309 non-null   object \n",
            " 7   Tarifa        1309 non-null   float64\n",
            " 8   Embarque      1309 non-null   object \n",
            " 9   Titulo        1275 non-null   object \n",
            "dtypes: float64(2), int64(3), object(5)\n",
            "memory usage: 112.5+ KB\n"
          ],
          "name": "stdout"
        }
      ]
    },
    {
      "cell_type": "markdown",
      "metadata": {
        "id": "Hu2bcl5EO87T"
      },
      "source": [
        "### Remover \"Bilhete\" e \"Nome\""
      ]
    },
    {
      "cell_type": "code",
      "metadata": {
        "id": "8RFRkicVO87U"
      },
      "source": [
        "data.drop(['Bilhete','Nome'], axis=1, inplace=True)"
      ],
      "execution_count": null,
      "outputs": []
    },
    {
      "cell_type": "code",
      "metadata": {
        "id": "ZT5inSyZO87X",
        "outputId": "45582718-5873-4f34-fd4a-5d2983ea93ff"
      },
      "source": [
        "data.head()"
      ],
      "execution_count": null,
      "outputs": [
        {
          "output_type": "execute_result",
          "data": {
            "text/html": [
              "<div>\n",
              "<style scoped>\n",
              "    .dataframe tbody tr th:only-of-type {\n",
              "        vertical-align: middle;\n",
              "    }\n",
              "\n",
              "    .dataframe tbody tr th {\n",
              "        vertical-align: top;\n",
              "    }\n",
              "\n",
              "    .dataframe thead th {\n",
              "        text-align: right;\n",
              "    }\n",
              "</style>\n",
              "<table border=\"1\" class=\"dataframe\">\n",
              "  <thead>\n",
              "    <tr style=\"text-align: right;\">\n",
              "      <th></th>\n",
              "      <th>Classe</th>\n",
              "      <th>Sexo</th>\n",
              "      <th>Idade</th>\n",
              "      <th>IrmaoConjuge</th>\n",
              "      <th>PaisFilhos</th>\n",
              "      <th>Tarifa</th>\n",
              "      <th>Embarque</th>\n",
              "      <th>Titulo</th>\n",
              "    </tr>\n",
              "    <tr>\n",
              "      <th>PassengerId</th>\n",
              "      <th></th>\n",
              "      <th></th>\n",
              "      <th></th>\n",
              "      <th></th>\n",
              "      <th></th>\n",
              "      <th></th>\n",
              "      <th></th>\n",
              "      <th></th>\n",
              "    </tr>\n",
              "  </thead>\n",
              "  <tbody>\n",
              "    <tr>\n",
              "      <th>1</th>\n",
              "      <td>3</td>\n",
              "      <td>homem</td>\n",
              "      <td>22.0</td>\n",
              "      <td>1</td>\n",
              "      <td>0</td>\n",
              "      <td>7.2500</td>\n",
              "      <td>S</td>\n",
              "      <td>HomemAdulto</td>\n",
              "    </tr>\n",
              "    <tr>\n",
              "      <th>2</th>\n",
              "      <td>1</td>\n",
              "      <td>mulher</td>\n",
              "      <td>38.0</td>\n",
              "      <td>1</td>\n",
              "      <td>0</td>\n",
              "      <td>71.2833</td>\n",
              "      <td>C</td>\n",
              "      <td>Casada</td>\n",
              "    </tr>\n",
              "    <tr>\n",
              "      <th>3</th>\n",
              "      <td>3</td>\n",
              "      <td>mulher</td>\n",
              "      <td>26.0</td>\n",
              "      <td>0</td>\n",
              "      <td>0</td>\n",
              "      <td>7.9250</td>\n",
              "      <td>S</td>\n",
              "      <td>Solteira</td>\n",
              "    </tr>\n",
              "    <tr>\n",
              "      <th>4</th>\n",
              "      <td>1</td>\n",
              "      <td>mulher</td>\n",
              "      <td>35.0</td>\n",
              "      <td>1</td>\n",
              "      <td>0</td>\n",
              "      <td>53.1000</td>\n",
              "      <td>S</td>\n",
              "      <td>Casada</td>\n",
              "    </tr>\n",
              "    <tr>\n",
              "      <th>5</th>\n",
              "      <td>3</td>\n",
              "      <td>homem</td>\n",
              "      <td>35.0</td>\n",
              "      <td>0</td>\n",
              "      <td>0</td>\n",
              "      <td>8.0500</td>\n",
              "      <td>S</td>\n",
              "      <td>HomemAdulto</td>\n",
              "    </tr>\n",
              "  </tbody>\n",
              "</table>\n",
              "</div>"
            ],
            "text/plain": [
              "             Classe    Sexo  Idade  IrmaoConjuge  PaisFilhos   Tarifa  \\\n",
              "PassengerId                                                             \n",
              "1                 3   homem   22.0             1           0   7.2500   \n",
              "2                 1  mulher   38.0             1           0  71.2833   \n",
              "3                 3  mulher   26.0             0           0   7.9250   \n",
              "4                 1  mulher   35.0             1           0  53.1000   \n",
              "5                 3   homem   35.0             0           0   8.0500   \n",
              "\n",
              "            Embarque       Titulo  \n",
              "PassengerId                        \n",
              "1                  S  HomemAdulto  \n",
              "2                  C       Casada  \n",
              "3                  S     Solteira  \n",
              "4                  S       Casada  \n",
              "5                  S  HomemAdulto  "
            ]
          },
          "metadata": {
            "tags": []
          },
          "execution_count": 82
        }
      ]
    },
    {
      "cell_type": "markdown",
      "metadata": {
        "id": "W9FaK467O87a"
      },
      "source": [
        "# Engenharia de Recursos II"
      ]
    },
    {
      "cell_type": "markdown",
      "metadata": {
        "id": "Op4a-eIPO87b"
      },
      "source": [
        "### Estudar possibilidade de identificar \"meninas\" similar aos \"meninos\"\n",
        "Através da combinação: \"solteira\" e está com \"pais\""
      ]
    },
    {
      "cell_type": "code",
      "metadata": {
        "id": "me-A_ZfbO87b",
        "outputId": "c0470b28-e837-4539-aa36-2201ae04cc27"
      },
      "source": [
        "solteiras_com_pais = data.loc[(data['Titulo']=='Solteira') & (data['PaisFilhos']>=1)]\n",
        "solteiras_com_pais"
      ],
      "execution_count": null,
      "outputs": [
        {
          "output_type": "execute_result",
          "data": {
            "text/html": [
              "<div>\n",
              "<style scoped>\n",
              "    .dataframe tbody tr th:only-of-type {\n",
              "        vertical-align: middle;\n",
              "    }\n",
              "\n",
              "    .dataframe tbody tr th {\n",
              "        vertical-align: top;\n",
              "    }\n",
              "\n",
              "    .dataframe thead th {\n",
              "        text-align: right;\n",
              "    }\n",
              "</style>\n",
              "<table border=\"1\" class=\"dataframe\">\n",
              "  <thead>\n",
              "    <tr style=\"text-align: right;\">\n",
              "      <th></th>\n",
              "      <th>Classe</th>\n",
              "      <th>Sexo</th>\n",
              "      <th>Idade</th>\n",
              "      <th>IrmaoConjuge</th>\n",
              "      <th>PaisFilhos</th>\n",
              "      <th>Tarifa</th>\n",
              "      <th>Embarque</th>\n",
              "      <th>Titulo</th>\n",
              "    </tr>\n",
              "    <tr>\n",
              "      <th>PassengerId</th>\n",
              "      <th></th>\n",
              "      <th></th>\n",
              "      <th></th>\n",
              "      <th></th>\n",
              "      <th></th>\n",
              "      <th></th>\n",
              "      <th></th>\n",
              "      <th></th>\n",
              "    </tr>\n",
              "  </thead>\n",
              "  <tbody>\n",
              "    <tr>\n",
              "      <th>11</th>\n",
              "      <td>3</td>\n",
              "      <td>mulher</td>\n",
              "      <td>4.00</td>\n",
              "      <td>1</td>\n",
              "      <td>1</td>\n",
              "      <td>16.7000</td>\n",
              "      <td>S</td>\n",
              "      <td>Solteira</td>\n",
              "    </tr>\n",
              "    <tr>\n",
              "      <th>25</th>\n",
              "      <td>3</td>\n",
              "      <td>mulher</td>\n",
              "      <td>8.00</td>\n",
              "      <td>3</td>\n",
              "      <td>1</td>\n",
              "      <td>21.0750</td>\n",
              "      <td>S</td>\n",
              "      <td>Solteira</td>\n",
              "    </tr>\n",
              "    <tr>\n",
              "      <th>44</th>\n",
              "      <td>2</td>\n",
              "      <td>mulher</td>\n",
              "      <td>3.00</td>\n",
              "      <td>1</td>\n",
              "      <td>2</td>\n",
              "      <td>41.5792</td>\n",
              "      <td>C</td>\n",
              "      <td>Solteira</td>\n",
              "    </tr>\n",
              "    <tr>\n",
              "      <th>59</th>\n",
              "      <td>2</td>\n",
              "      <td>mulher</td>\n",
              "      <td>5.00</td>\n",
              "      <td>1</td>\n",
              "      <td>2</td>\n",
              "      <td>27.7500</td>\n",
              "      <td>S</td>\n",
              "      <td>Solteira</td>\n",
              "    </tr>\n",
              "    <tr>\n",
              "      <th>69</th>\n",
              "      <td>3</td>\n",
              "      <td>mulher</td>\n",
              "      <td>17.00</td>\n",
              "      <td>4</td>\n",
              "      <td>2</td>\n",
              "      <td>7.9250</td>\n",
              "      <td>S</td>\n",
              "      <td>Solteira</td>\n",
              "    </tr>\n",
              "    <tr>\n",
              "      <th>...</th>\n",
              "      <td>...</td>\n",
              "      <td>...</td>\n",
              "      <td>...</td>\n",
              "      <td>...</td>\n",
              "      <td>...</td>\n",
              "      <td>...</td>\n",
              "      <td>...</td>\n",
              "      <td>...</td>\n",
              "    </tr>\n",
              "    <tr>\n",
              "      <th>1218</th>\n",
              "      <td>2</td>\n",
              "      <td>mulher</td>\n",
              "      <td>12.00</td>\n",
              "      <td>2</td>\n",
              "      <td>1</td>\n",
              "      <td>39.0000</td>\n",
              "      <td>S</td>\n",
              "      <td>Solteira</td>\n",
              "    </tr>\n",
              "    <tr>\n",
              "      <th>1246</th>\n",
              "      <td>3</td>\n",
              "      <td>mulher</td>\n",
              "      <td>0.17</td>\n",
              "      <td>1</td>\n",
              "      <td>2</td>\n",
              "      <td>20.5750</td>\n",
              "      <td>S</td>\n",
              "      <td>Solteira</td>\n",
              "    </tr>\n",
              "    <tr>\n",
              "      <th>1277</th>\n",
              "      <td>2</td>\n",
              "      <td>mulher</td>\n",
              "      <td>24.00</td>\n",
              "      <td>1</td>\n",
              "      <td>2</td>\n",
              "      <td>65.0000</td>\n",
              "      <td>S</td>\n",
              "      <td>Solteira</td>\n",
              "    </tr>\n",
              "    <tr>\n",
              "      <th>1294</th>\n",
              "      <td>1</td>\n",
              "      <td>mulher</td>\n",
              "      <td>22.00</td>\n",
              "      <td>0</td>\n",
              "      <td>1</td>\n",
              "      <td>59.4000</td>\n",
              "      <td>C</td>\n",
              "      <td>Solteira</td>\n",
              "    </tr>\n",
              "    <tr>\n",
              "      <th>1301</th>\n",
              "      <td>3</td>\n",
              "      <td>mulher</td>\n",
              "      <td>3.00</td>\n",
              "      <td>1</td>\n",
              "      <td>1</td>\n",
              "      <td>13.7750</td>\n",
              "      <td>S</td>\n",
              "      <td>Solteira</td>\n",
              "    </tr>\n",
              "  </tbody>\n",
              "</table>\n",
              "<p>86 rows × 8 columns</p>\n",
              "</div>"
            ],
            "text/plain": [
              "             Classe    Sexo  Idade  IrmaoConjuge  PaisFilhos   Tarifa  \\\n",
              "PassengerId                                                             \n",
              "11                3  mulher   4.00             1           1  16.7000   \n",
              "25                3  mulher   8.00             3           1  21.0750   \n",
              "44                2  mulher   3.00             1           2  41.5792   \n",
              "59                2  mulher   5.00             1           2  27.7500   \n",
              "69                3  mulher  17.00             4           2   7.9250   \n",
              "...             ...     ...    ...           ...         ...      ...   \n",
              "1218              2  mulher  12.00             2           1  39.0000   \n",
              "1246              3  mulher   0.17             1           2  20.5750   \n",
              "1277              2  mulher  24.00             1           2  65.0000   \n",
              "1294              1  mulher  22.00             0           1  59.4000   \n",
              "1301              3  mulher   3.00             1           1  13.7750   \n",
              "\n",
              "            Embarque    Titulo  \n",
              "PassengerId                     \n",
              "11                 S  Solteira  \n",
              "25                 S  Solteira  \n",
              "44                 C  Solteira  \n",
              "59                 S  Solteira  \n",
              "69                 S  Solteira  \n",
              "...              ...       ...  \n",
              "1218               S  Solteira  \n",
              "1246               S  Solteira  \n",
              "1277               S  Solteira  \n",
              "1294               C  Solteira  \n",
              "1301               S  Solteira  \n",
              "\n",
              "[86 rows x 8 columns]"
            ]
          },
          "metadata": {
            "tags": []
          },
          "execution_count": 87
        }
      ]
    },
    {
      "cell_type": "markdown",
      "metadata": {
        "id": "MDl4kg6hO87f"
      },
      "source": [
        "### idade média de \"meninas solteiras acompanhadas dos pais\""
      ]
    },
    {
      "cell_type": "code",
      "metadata": {
        "id": "THj8RhVnO87h",
        "outputId": "7b1ee6a3-501a-4536-d3c9-d4bc7d35f959"
      },
      "source": [
        "solteira_com_pais['Idade'].mean()"
      ],
      "execution_count": null,
      "outputs": [
        {
          "output_type": "execute_result",
          "data": {
            "text/plain": [
              "12.178815789473683"
            ]
          },
          "metadata": {
            "tags": []
          },
          "execution_count": 88
        }
      ]
    },
    {
      "cell_type": "markdown",
      "metadata": {
        "id": "1vkBxHa5O87l"
      },
      "source": [
        "### verificar distribuição da idade"
      ]
    },
    {
      "cell_type": "code",
      "metadata": {
        "id": "jp6XgZn8O87m",
        "outputId": "71283524-bbaa-4bb3-9527-f080fd7f4cda"
      },
      "source": [
        "plt.hist(solteiras_com_pais['Idade'], bins=15)\n",
        "plt.show()"
      ],
      "execution_count": null,
      "outputs": [
        {
          "output_type": "stream",
          "text": [
            "C:\\Users\\cs328564\\Anaconda3\\lib\\site-packages\\numpy\\lib\\histograms.py:839: RuntimeWarning: invalid value encountered in greater_equal\n",
            "  keep = (tmp_a >= first_edge)\n",
            "C:\\Users\\cs328564\\Anaconda3\\lib\\site-packages\\numpy\\lib\\histograms.py:840: RuntimeWarning: invalid value encountered in less_equal\n",
            "  keep &= (tmp_a <= last_edge)\n"
          ],
          "name": "stderr"
        },
        {
          "output_type": "display_data",
          "data": {
            "image/png": "[encoded data removed]",
            "text/plain": [
              "<Figure size 432x288 with 1 Axes>"
            ]
          },
          "metadata": {
            "tags": [],
            "needs_background": "light"
          }
        }
      ]
    },
    {
      "cell_type": "markdown",
      "metadata": {
        "id": "xFP0EE8lO87p"
      },
      "source": [
        "### Média de mulheres \"solteiras\""
      ]
    },
    {
      "cell_type": "code",
      "metadata": {
        "id": "kEf4h1gEO87q",
        "outputId": "a139f31f-eb88-41f3-cab3-7a5dd5614bf5"
      },
      "source": [
        "data.loc[data['Titulo']=='Solteira']['Idade'].mean()"
      ],
      "execution_count": null,
      "outputs": [
        {
          "output_type": "execute_result",
          "data": {
            "text/plain": [
              "21.774238095238097"
            ]
          },
          "metadata": {
            "tags": []
          },
          "execution_count": 90
        }
      ]
    },
    {
      "cell_type": "markdown",
      "metadata": {
        "id": "UDF72loaO87y"
      },
      "source": [
        "### Distribuição das idades de mulheres \"solteiras\""
      ]
    },
    {
      "cell_type": "code",
      "metadata": {
        "id": "Zyw4WC7dO87z",
        "outputId": "e104e954-8173-48e7-9ea7-c8894ae6e1ff"
      },
      "source": [
        "plt.hist(data.loc[data['Titulo']=='Solteira']['Idade'], bins=15)\n",
        "plt.show()"
      ],
      "execution_count": null,
      "outputs": [
        {
          "output_type": "display_data",
          "data": {
            "image/png": "[encoded data removed]",
            "text/plain": [
              "<Figure size 432x288 with 1 Axes>"
            ]
          },
          "metadata": {
            "tags": [],
            "needs_background": "light"
          }
        }
      ]
    },
    {
      "cell_type": "markdown",
      "metadata": {
        "id": "p8xTCeg4O878"
      },
      "source": [
        "### Média de idade de mulheres \"casadas\""
      ]
    },
    {
      "cell_type": "code",
      "metadata": {
        "id": "vOLhYcowO879",
        "outputId": "50aaf30d-daeb-4219-b487-2d9bed9d68ea"
      },
      "source": [
        "data.loc[data['Titulo']=='Casada']['Idade'].mean()"
      ],
      "execution_count": null,
      "outputs": [
        {
          "output_type": "execute_result",
          "data": {
            "text/plain": [
              "36.99411764705882"
            ]
          },
          "metadata": {
            "tags": []
          },
          "execution_count": 93
        }
      ]
    },
    {
      "cell_type": "markdown",
      "metadata": {
        "id": "iqWl8BNoO88A"
      },
      "source": [
        "### Distribuição das idades de mulheres \"casadas\""
      ]
    },
    {
      "cell_type": "code",
      "metadata": {
        "id": "MpW7Sm9iO88A",
        "outputId": "b409f25c-2087-4360-9eb9-313e9372966c"
      },
      "source": [
        "plt.hist(data.loc[data['Titulo']=='Casada']['Idade'], bins=15)\n",
        "plt.show()"
      ],
      "execution_count": null,
      "outputs": [
        {
          "output_type": "display_data",
          "data": {
            "image/png": "[encoded data removed]",
            "text/plain": [
              "<Figure size 432x288 with 1 Axes>"
            ]
          },
          "metadata": {
            "tags": [],
            "needs_background": "light"
          }
        }
      ]
    },
    {
      "cell_type": "markdown",
      "metadata": {
        "id": "K3ZU9EImO88I"
      },
      "source": [
        "### Adicionar coluna \"solteira com pais\""
      ]
    },
    {
      "cell_type": "code",
      "metadata": {
        "id": "6L3e7Ty2O88J",
        "outputId": "a906e2f7-7f8f-40bf-c8e7-3975a0282839"
      },
      "source": [
        "solteira_com_pais.index"
      ],
      "execution_count": null,
      "outputs": [
        {
          "output_type": "execute_result",
          "data": {
            "text/plain": [
              "Int64Index([  11,   25,   44,   59,   69,   72,   89,  120,  129,  137,  148,\n",
              "             173,  181,  185,  206,  230,  234,  238,  298,  312,  319,  330,\n",
              "             342,  357,  375,  382,  410,  418,  420,  436,  437,  447,  449,\n",
              "             470,  480,  486,  531,  536,  540,  541,  542,  543,  581,  586,\n",
              "             594,  616,  619,  635,  643,  645,  652,  690,  692,  703,  721,\n",
              "             743,  751,  793,  814,  836,  853,  854,  864,  889,  918,  944,\n",
              "             945, 1009, 1017, 1032, 1067, 1078, 1080, 1095, 1106, 1130, 1142,\n",
              "            1155, 1175, 1176, 1188, 1218, 1246, 1277, 1294, 1301],\n",
              "           dtype='int64', name='PassengerId')"
            ]
          },
          "metadata": {
            "tags": []
          },
          "execution_count": 95
        }
      ]
    },
    {
      "cell_type": "code",
      "metadata": {
        "id": "Mqo7QqatO88M"
      },
      "source": [
        "data['solteira_com_pais'] = 0"
      ],
      "execution_count": null,
      "outputs": []
    },
    {
      "cell_type": "code",
      "metadata": {
        "id": "BZbD1eQuO88P",
        "outputId": "6fa59ca4-d486-48ab-eafc-4012c50c9fe2"
      },
      "source": [
        "data['solteira_com_pais']"
      ],
      "execution_count": null,
      "outputs": [
        {
          "output_type": "execute_result",
          "data": {
            "text/plain": [
              "PassengerId\n",
              "1       0\n",
              "2       0\n",
              "3       0\n",
              "4       0\n",
              "5       0\n",
              "       ..\n",
              "1305    0\n",
              "1306    0\n",
              "1307    0\n",
              "1308    0\n",
              "1309    0\n",
              "Name: solteira_com_pais, Length: 1309, dtype: int64"
            ]
          },
          "metadata": {
            "tags": []
          },
          "execution_count": 98
        }
      ]
    },
    {
      "cell_type": "code",
      "metadata": {
        "id": "UL0bxQ4MO88T"
      },
      "source": [
        "for idx, _ in data.iterrows():\n",
        "    if idx in solteira_com_pais.index:\n",
        "        data['solteira_com_pais'].at[idx] = 1"
      ],
      "execution_count": null,
      "outputs": []
    },
    {
      "cell_type": "code",
      "metadata": {
        "id": "ONhekYe8O88Y",
        "outputId": "f05a34f5-a22f-4798-acbe-ef25cd6ff19f"
      },
      "source": [
        "data['solteira_com_pais'].head(30)"
      ],
      "execution_count": null,
      "outputs": [
        {
          "output_type": "execute_result",
          "data": {
            "text/plain": [
              "PassengerId\n",
              "1     0\n",
              "2     0\n",
              "3     0\n",
              "4     0\n",
              "5     0\n",
              "6     0\n",
              "7     0\n",
              "8     0\n",
              "9     0\n",
              "10    0\n",
              "11    1\n",
              "12    0\n",
              "13    0\n",
              "14    0\n",
              "15    0\n",
              "16    0\n",
              "17    0\n",
              "18    0\n",
              "19    0\n",
              "20    0\n",
              "21    0\n",
              "22    0\n",
              "23    0\n",
              "24    0\n",
              "25    1\n",
              "26    0\n",
              "27    0\n",
              "28    0\n",
              "29    0\n",
              "30    0\n",
              "Name: solteira_com_pais, dtype: int64"
            ]
          },
          "metadata": {
            "tags": []
          },
          "execution_count": 102
        }
      ]
    },
    {
      "cell_type": "code",
      "metadata": {
        "id": "JFppmB9yO88c",
        "outputId": "fc013e68-de43-4f44-e9b5-009d1b7e65d4"
      },
      "source": [
        "data.loc[data['solteira_com_pais']==1]['Idade'].mean()"
      ],
      "execution_count": null,
      "outputs": [
        {
          "output_type": "execute_result",
          "data": {
            "text/plain": [
              "12.178815789473683"
            ]
          },
          "metadata": {
            "tags": []
          },
          "execution_count": 107
        }
      ]
    },
    {
      "cell_type": "code",
      "metadata": {
        "id": "sMoq_LR5O88g",
        "outputId": "83965da1-d754-43ad-e48a-f3352514953d"
      },
      "source": [
        "data.loc[data['solteira_com_pais']==0]['Idade'].mean()"
      ],
      "execution_count": null,
      "outputs": [
        {
          "output_type": "execute_result",
          "data": {
            "text/plain": [
              "31.26812371134021"
            ]
          },
          "metadata": {
            "tags": []
          },
          "execution_count": 109
        }
      ]
    },
    {
      "cell_type": "markdown",
      "metadata": {
        "id": "jYZJn6goO88n"
      },
      "source": [
        "### Transformar recursos categóricos em \"dummies\""
      ]
    },
    {
      "cell_type": "code",
      "metadata": {
        "id": "rdeHQvGRO88o",
        "outputId": "fa7a75b7-6c08-403a-a760-8217cdd28669"
      },
      "source": [
        "data.head()"
      ],
      "execution_count": null,
      "outputs": [
        {
          "output_type": "execute_result",
          "data": {
            "text/html": [
              "<div>\n",
              "<style scoped>\n",
              "    .dataframe tbody tr th:only-of-type {\n",
              "        vertical-align: middle;\n",
              "    }\n",
              "\n",
              "    .dataframe tbody tr th {\n",
              "        vertical-align: top;\n",
              "    }\n",
              "\n",
              "    .dataframe thead th {\n",
              "        text-align: right;\n",
              "    }\n",
              "</style>\n",
              "<table border=\"1\" class=\"dataframe\">\n",
              "  <thead>\n",
              "    <tr style=\"text-align: right;\">\n",
              "      <th></th>\n",
              "      <th>Classe</th>\n",
              "      <th>Sexo</th>\n",
              "      <th>Idade</th>\n",
              "      <th>IrmaoConjuge</th>\n",
              "      <th>PaisFilhos</th>\n",
              "      <th>Tarifa</th>\n",
              "      <th>Embarque</th>\n",
              "      <th>Titulo</th>\n",
              "      <th>solteira_com_pais</th>\n",
              "    </tr>\n",
              "    <tr>\n",
              "      <th>PassengerId</th>\n",
              "      <th></th>\n",
              "      <th></th>\n",
              "      <th></th>\n",
              "      <th></th>\n",
              "      <th></th>\n",
              "      <th></th>\n",
              "      <th></th>\n",
              "      <th></th>\n",
              "      <th></th>\n",
              "    </tr>\n",
              "  </thead>\n",
              "  <tbody>\n",
              "    <tr>\n",
              "      <th>1</th>\n",
              "      <td>3</td>\n",
              "      <td>0</td>\n",
              "      <td>22.0</td>\n",
              "      <td>1</td>\n",
              "      <td>0</td>\n",
              "      <td>7.2500</td>\n",
              "      <td>S</td>\n",
              "      <td>HomemAdulto</td>\n",
              "      <td>0</td>\n",
              "    </tr>\n",
              "    <tr>\n",
              "      <th>2</th>\n",
              "      <td>1</td>\n",
              "      <td>1</td>\n",
              "      <td>38.0</td>\n",
              "      <td>1</td>\n",
              "      <td>0</td>\n",
              "      <td>71.2833</td>\n",
              "      <td>C</td>\n",
              "      <td>Casada</td>\n",
              "      <td>0</td>\n",
              "    </tr>\n",
              "    <tr>\n",
              "      <th>3</th>\n",
              "      <td>3</td>\n",
              "      <td>1</td>\n",
              "      <td>26.0</td>\n",
              "      <td>0</td>\n",
              "      <td>0</td>\n",
              "      <td>7.9250</td>\n",
              "      <td>S</td>\n",
              "      <td>Solteira</td>\n",
              "      <td>0</td>\n",
              "    </tr>\n",
              "    <tr>\n",
              "      <th>4</th>\n",
              "      <td>1</td>\n",
              "      <td>1</td>\n",
              "      <td>35.0</td>\n",
              "      <td>1</td>\n",
              "      <td>0</td>\n",
              "      <td>53.1000</td>\n",
              "      <td>S</td>\n",
              "      <td>Casada</td>\n",
              "      <td>0</td>\n",
              "    </tr>\n",
              "    <tr>\n",
              "      <th>5</th>\n",
              "      <td>3</td>\n",
              "      <td>0</td>\n",
              "      <td>35.0</td>\n",
              "      <td>0</td>\n",
              "      <td>0</td>\n",
              "      <td>8.0500</td>\n",
              "      <td>S</td>\n",
              "      <td>HomemAdulto</td>\n",
              "      <td>0</td>\n",
              "    </tr>\n",
              "  </tbody>\n",
              "</table>\n",
              "</div>"
            ],
            "text/plain": [
              "             Classe  Sexo  Idade  IrmaoConjuge  PaisFilhos   Tarifa Embarque  \\\n",
              "PassengerId                                                                    \n",
              "1                 3     0   22.0             1           0   7.2500        S   \n",
              "2                 1     1   38.0             1           0  71.2833        C   \n",
              "3                 3     1   26.0             0           0   7.9250        S   \n",
              "4                 1     1   35.0             1           0  53.1000        S   \n",
              "5                 3     0   35.0             0           0   8.0500        S   \n",
              "\n",
              "                  Titulo  solteira_com_pais  \n",
              "PassengerId                                  \n",
              "1            HomemAdulto                  0  \n",
              "2                 Casada                  0  \n",
              "3               Solteira                  0  \n",
              "4                 Casada                  0  \n",
              "5            HomemAdulto                  0  "
            ]
          },
          "metadata": {
            "tags": []
          },
          "execution_count": 112
        }
      ]
    },
    {
      "cell_type": "code",
      "metadata": {
        "id": "bvaww7DLO88u"
      },
      "source": [
        "data['Sexo'] = data['Sexo'].map({'homem':0, 'mulher':1})"
      ],
      "execution_count": null,
      "outputs": []
    },
    {
      "cell_type": "code",
      "metadata": {
        "id": "NfOIM6xvO88x"
      },
      "source": [
        "data = pd.get_dummies(data, columns=['Classe','Embarque','Titulo'], drop_first=True)"
      ],
      "execution_count": null,
      "outputs": []
    },
    {
      "cell_type": "code",
      "metadata": {
        "id": "0xYSt5WDO880",
        "outputId": "ea3d4332-9cfe-48d3-a944-92cb0a689731"
      },
      "source": [
        "data.head()"
      ],
      "execution_count": null,
      "outputs": [
        {
          "output_type": "execute_result",
          "data": {
            "text/html": [
              "<div>\n",
              "<style scoped>\n",
              "    .dataframe tbody tr th:only-of-type {\n",
              "        vertical-align: middle;\n",
              "    }\n",
              "\n",
              "    .dataframe tbody tr th {\n",
              "        vertical-align: top;\n",
              "    }\n",
              "\n",
              "    .dataframe thead th {\n",
              "        text-align: right;\n",
              "    }\n",
              "</style>\n",
              "<table border=\"1\" class=\"dataframe\">\n",
              "  <thead>\n",
              "    <tr style=\"text-align: right;\">\n",
              "      <th></th>\n",
              "      <th>Sexo</th>\n",
              "      <th>Idade</th>\n",
              "      <th>IrmaoConjuge</th>\n",
              "      <th>PaisFilhos</th>\n",
              "      <th>Tarifa</th>\n",
              "      <th>solteira_com_pais</th>\n",
              "      <th>Classe_2</th>\n",
              "      <th>Classe_3</th>\n",
              "      <th>Embarque_Q</th>\n",
              "      <th>Embarque_S</th>\n",
              "      <th>Titulo_HomemAdulto</th>\n",
              "      <th>Titulo_Menino</th>\n",
              "      <th>Titulo_Solteira</th>\n",
              "    </tr>\n",
              "    <tr>\n",
              "      <th>PassengerId</th>\n",
              "      <th></th>\n",
              "      <th></th>\n",
              "      <th></th>\n",
              "      <th></th>\n",
              "      <th></th>\n",
              "      <th></th>\n",
              "      <th></th>\n",
              "      <th></th>\n",
              "      <th></th>\n",
              "      <th></th>\n",
              "      <th></th>\n",
              "      <th></th>\n",
              "      <th></th>\n",
              "    </tr>\n",
              "  </thead>\n",
              "  <tbody>\n",
              "    <tr>\n",
              "      <th>1</th>\n",
              "      <td>0</td>\n",
              "      <td>22.0</td>\n",
              "      <td>1</td>\n",
              "      <td>0</td>\n",
              "      <td>7.2500</td>\n",
              "      <td>0</td>\n",
              "      <td>0</td>\n",
              "      <td>1</td>\n",
              "      <td>0</td>\n",
              "      <td>1</td>\n",
              "      <td>1</td>\n",
              "      <td>0</td>\n",
              "      <td>0</td>\n",
              "    </tr>\n",
              "    <tr>\n",
              "      <th>2</th>\n",
              "      <td>1</td>\n",
              "      <td>38.0</td>\n",
              "      <td>1</td>\n",
              "      <td>0</td>\n",
              "      <td>71.2833</td>\n",
              "      <td>0</td>\n",
              "      <td>0</td>\n",
              "      <td>0</td>\n",
              "      <td>0</td>\n",
              "      <td>0</td>\n",
              "      <td>0</td>\n",
              "      <td>0</td>\n",
              "      <td>0</td>\n",
              "    </tr>\n",
              "    <tr>\n",
              "      <th>3</th>\n",
              "      <td>1</td>\n",
              "      <td>26.0</td>\n",
              "      <td>0</td>\n",
              "      <td>0</td>\n",
              "      <td>7.9250</td>\n",
              "      <td>0</td>\n",
              "      <td>0</td>\n",
              "      <td>1</td>\n",
              "      <td>0</td>\n",
              "      <td>1</td>\n",
              "      <td>0</td>\n",
              "      <td>0</td>\n",
              "      <td>1</td>\n",
              "    </tr>\n",
              "    <tr>\n",
              "      <th>4</th>\n",
              "      <td>1</td>\n",
              "      <td>35.0</td>\n",
              "      <td>1</td>\n",
              "      <td>0</td>\n",
              "      <td>53.1000</td>\n",
              "      <td>0</td>\n",
              "      <td>0</td>\n",
              "      <td>0</td>\n",
              "      <td>0</td>\n",
              "      <td>1</td>\n",
              "      <td>0</td>\n",
              "      <td>0</td>\n",
              "      <td>0</td>\n",
              "    </tr>\n",
              "    <tr>\n",
              "      <th>5</th>\n",
              "      <td>0</td>\n",
              "      <td>35.0</td>\n",
              "      <td>0</td>\n",
              "      <td>0</td>\n",
              "      <td>8.0500</td>\n",
              "      <td>0</td>\n",
              "      <td>0</td>\n",
              "      <td>1</td>\n",
              "      <td>0</td>\n",
              "      <td>1</td>\n",
              "      <td>1</td>\n",
              "      <td>0</td>\n",
              "      <td>0</td>\n",
              "    </tr>\n",
              "  </tbody>\n",
              "</table>\n",
              "</div>"
            ],
            "text/plain": [
              "             Sexo  Idade  IrmaoConjuge  PaisFilhos   Tarifa  \\\n",
              "PassengerId                                                   \n",
              "1               0   22.0             1           0   7.2500   \n",
              "2               1   38.0             1           0  71.2833   \n",
              "3               1   26.0             0           0   7.9250   \n",
              "4               1   35.0             1           0  53.1000   \n",
              "5               0   35.0             0           0   8.0500   \n",
              "\n",
              "             solteira_com_pais  Classe_2  Classe_3  Embarque_Q  Embarque_S  \\\n",
              "PassengerId                                                                  \n",
              "1                            0         0         1           0           1   \n",
              "2                            0         0         0           0           0   \n",
              "3                            0         0         1           0           1   \n",
              "4                            0         0         0           0           1   \n",
              "5                            0         0         1           0           1   \n",
              "\n",
              "             Titulo_HomemAdulto  Titulo_Menino  Titulo_Solteira  \n",
              "PassengerId                                                      \n",
              "1                             1              0                0  \n",
              "2                             0              0                0  \n",
              "3                             0              0                1  \n",
              "4                             0              0                0  \n",
              "5                             1              0                0  "
            ]
          },
          "metadata": {
            "tags": []
          },
          "execution_count": 114
        }
      ]
    },
    {
      "cell_type": "code",
      "metadata": {
        "id": "ZblA2GPbO882",
        "outputId": "fd4fd85b-0ec3-4ab3-858e-da657c3c09e5"
      },
      "source": [
        "data.shape"
      ],
      "execution_count": null,
      "outputs": [
        {
          "output_type": "execute_result",
          "data": {
            "text/plain": [
              "(1309, 13)"
            ]
          },
          "metadata": {
            "tags": []
          },
          "execution_count": 116
        }
      ]
    },
    {
      "cell_type": "markdown",
      "metadata": {
        "id": "yqMpWMiFO886"
      },
      "source": [
        "### Separar train e test para idades\n",
        "* treinar com dados não nulos\n",
        "* aplicar modelo em dados nulos"
      ]
    },
    {
      "cell_type": "code",
      "metadata": {
        "id": "bj05fsQpO887",
        "outputId": "2af59d43-bba3-44ff-fe3e-44fd612ffa27"
      },
      "source": [
        "data.isnull().sum() "
      ],
      "execution_count": null,
      "outputs": [
        {
          "output_type": "execute_result",
          "data": {
            "text/plain": [
              "Sexo                    0\n",
              "Idade                 263\n",
              "IrmaoConjuge            0\n",
              "PaisFilhos              0\n",
              "Tarifa                  0\n",
              "solteira_com_pais       0\n",
              "Classe_2                0\n",
              "Classe_3                0\n",
              "Embarque_Q              0\n",
              "Embarque_S              0\n",
              "Titulo_HomemAdulto      0\n",
              "Titulo_Menino           0\n",
              "Titulo_Solteira         0\n",
              "dtype: int64"
            ]
          },
          "metadata": {
            "tags": []
          },
          "execution_count": 117
        }
      ]
    },
    {
      "cell_type": "code",
      "metadata": {
        "id": "_VcTE6xdO88-"
      },
      "source": [
        "train_idade = data.dropna()"
      ],
      "execution_count": null,
      "outputs": []
    },
    {
      "cell_type": "code",
      "metadata": {
        "id": "ICUKlka7O89E"
      },
      "source": [
        "test_idade = data.loc[data['Idade'].isnull()].drop('Idade', axis=1)"
      ],
      "execution_count": null,
      "outputs": []
    },
    {
      "cell_type": "code",
      "metadata": {
        "id": "uCUWfBX6O89H",
        "outputId": "2efd67c5-cca9-4d69-de31-fba706b66274"
      },
      "source": [
        "test_idade"
      ],
      "execution_count": null,
      "outputs": [
        {
          "output_type": "execute_result",
          "data": {
            "text/html": [
              "<div>\n",
              "<style scoped>\n",
              "    .dataframe tbody tr th:only-of-type {\n",
              "        vertical-align: middle;\n",
              "    }\n",
              "\n",
              "    .dataframe tbody tr th {\n",
              "        vertical-align: top;\n",
              "    }\n",
              "\n",
              "    .dataframe thead th {\n",
              "        text-align: right;\n",
              "    }\n",
              "</style>\n",
              "<table border=\"1\" class=\"dataframe\">\n",
              "  <thead>\n",
              "    <tr style=\"text-align: right;\">\n",
              "      <th></th>\n",
              "      <th>Sexo</th>\n",
              "      <th>IrmaoConjuge</th>\n",
              "      <th>PaisFilhos</th>\n",
              "      <th>Tarifa</th>\n",
              "      <th>solteira_com_pais</th>\n",
              "      <th>Classe_2</th>\n",
              "      <th>Classe_3</th>\n",
              "      <th>Embarque_Q</th>\n",
              "      <th>Embarque_S</th>\n",
              "      <th>Titulo_HomemAdulto</th>\n",
              "      <th>Titulo_Menino</th>\n",
              "      <th>Titulo_Solteira</th>\n",
              "    </tr>\n",
              "    <tr>\n",
              "      <th>PassengerId</th>\n",
              "      <th></th>\n",
              "      <th></th>\n",
              "      <th></th>\n",
              "      <th></th>\n",
              "      <th></th>\n",
              "      <th></th>\n",
              "      <th></th>\n",
              "      <th></th>\n",
              "      <th></th>\n",
              "      <th></th>\n",
              "      <th></th>\n",
              "      <th></th>\n",
              "    </tr>\n",
              "  </thead>\n",
              "  <tbody>\n",
              "    <tr>\n",
              "      <th>6</th>\n",
              "      <td>0</td>\n",
              "      <td>0</td>\n",
              "      <td>0</td>\n",
              "      <td>8.4583</td>\n",
              "      <td>0</td>\n",
              "      <td>0</td>\n",
              "      <td>1</td>\n",
              "      <td>1</td>\n",
              "      <td>0</td>\n",
              "      <td>1</td>\n",
              "      <td>0</td>\n",
              "      <td>0</td>\n",
              "    </tr>\n",
              "    <tr>\n",
              "      <th>18</th>\n",
              "      <td>0</td>\n",
              "      <td>0</td>\n",
              "      <td>0</td>\n",
              "      <td>13.0000</td>\n",
              "      <td>0</td>\n",
              "      <td>1</td>\n",
              "      <td>0</td>\n",
              "      <td>0</td>\n",
              "      <td>1</td>\n",
              "      <td>1</td>\n",
              "      <td>0</td>\n",
              "      <td>0</td>\n",
              "    </tr>\n",
              "    <tr>\n",
              "      <th>20</th>\n",
              "      <td>1</td>\n",
              "      <td>0</td>\n",
              "      <td>0</td>\n",
              "      <td>7.2250</td>\n",
              "      <td>0</td>\n",
              "      <td>0</td>\n",
              "      <td>1</td>\n",
              "      <td>0</td>\n",
              "      <td>0</td>\n",
              "      <td>0</td>\n",
              "      <td>0</td>\n",
              "      <td>0</td>\n",
              "    </tr>\n",
              "    <tr>\n",
              "      <th>27</th>\n",
              "      <td>0</td>\n",
              "      <td>0</td>\n",
              "      <td>0</td>\n",
              "      <td>7.2250</td>\n",
              "      <td>0</td>\n",
              "      <td>0</td>\n",
              "      <td>1</td>\n",
              "      <td>0</td>\n",
              "      <td>0</td>\n",
              "      <td>1</td>\n",
              "      <td>0</td>\n",
              "      <td>0</td>\n",
              "    </tr>\n",
              "    <tr>\n",
              "      <th>29</th>\n",
              "      <td>1</td>\n",
              "      <td>0</td>\n",
              "      <td>0</td>\n",
              "      <td>7.8792</td>\n",
              "      <td>0</td>\n",
              "      <td>0</td>\n",
              "      <td>1</td>\n",
              "      <td>1</td>\n",
              "      <td>0</td>\n",
              "      <td>0</td>\n",
              "      <td>0</td>\n",
              "      <td>1</td>\n",
              "    </tr>\n",
              "    <tr>\n",
              "      <th>...</th>\n",
              "      <td>...</td>\n",
              "      <td>...</td>\n",
              "      <td>...</td>\n",
              "      <td>...</td>\n",
              "      <td>...</td>\n",
              "      <td>...</td>\n",
              "      <td>...</td>\n",
              "      <td>...</td>\n",
              "      <td>...</td>\n",
              "      <td>...</td>\n",
              "      <td>...</td>\n",
              "      <td>...</td>\n",
              "    </tr>\n",
              "    <tr>\n",
              "      <th>1300</th>\n",
              "      <td>1</td>\n",
              "      <td>0</td>\n",
              "      <td>0</td>\n",
              "      <td>7.7208</td>\n",
              "      <td>0</td>\n",
              "      <td>0</td>\n",
              "      <td>1</td>\n",
              "      <td>1</td>\n",
              "      <td>0</td>\n",
              "      <td>0</td>\n",
              "      <td>0</td>\n",
              "      <td>1</td>\n",
              "    </tr>\n",
              "    <tr>\n",
              "      <th>1302</th>\n",
              "      <td>1</td>\n",
              "      <td>0</td>\n",
              "      <td>0</td>\n",
              "      <td>7.7500</td>\n",
              "      <td>0</td>\n",
              "      <td>0</td>\n",
              "      <td>1</td>\n",
              "      <td>1</td>\n",
              "      <td>0</td>\n",
              "      <td>0</td>\n",
              "      <td>0</td>\n",
              "      <td>1</td>\n",
              "    </tr>\n",
              "    <tr>\n",
              "      <th>1305</th>\n",
              "      <td>0</td>\n",
              "      <td>0</td>\n",
              "      <td>0</td>\n",
              "      <td>8.0500</td>\n",
              "      <td>0</td>\n",
              "      <td>0</td>\n",
              "      <td>1</td>\n",
              "      <td>0</td>\n",
              "      <td>1</td>\n",
              "      <td>1</td>\n",
              "      <td>0</td>\n",
              "      <td>0</td>\n",
              "    </tr>\n",
              "    <tr>\n",
              "      <th>1308</th>\n",
              "      <td>0</td>\n",
              "      <td>0</td>\n",
              "      <td>0</td>\n",
              "      <td>8.0500</td>\n",
              "      <td>0</td>\n",
              "      <td>0</td>\n",
              "      <td>1</td>\n",
              "      <td>0</td>\n",
              "      <td>1</td>\n",
              "      <td>1</td>\n",
              "      <td>0</td>\n",
              "      <td>0</td>\n",
              "    </tr>\n",
              "    <tr>\n",
              "      <th>1309</th>\n",
              "      <td>0</td>\n",
              "      <td>1</td>\n",
              "      <td>1</td>\n",
              "      <td>22.3583</td>\n",
              "      <td>0</td>\n",
              "      <td>0</td>\n",
              "      <td>1</td>\n",
              "      <td>0</td>\n",
              "      <td>0</td>\n",
              "      <td>0</td>\n",
              "      <td>1</td>\n",
              "      <td>0</td>\n",
              "    </tr>\n",
              "  </tbody>\n",
              "</table>\n",
              "<p>263 rows × 12 columns</p>\n",
              "</div>"
            ],
            "text/plain": [
              "             Sexo  IrmaoConjuge  PaisFilhos   Tarifa  solteira_com_pais  \\\n",
              "PassengerId                                                               \n",
              "6               0             0           0   8.4583                  0   \n",
              "18              0             0           0  13.0000                  0   \n",
              "20              1             0           0   7.2250                  0   \n",
              "27              0             0           0   7.2250                  0   \n",
              "29              1             0           0   7.8792                  0   \n",
              "...           ...           ...         ...      ...                ...   \n",
              "1300            1             0           0   7.7208                  0   \n",
              "1302            1             0           0   7.7500                  0   \n",
              "1305            0             0           0   8.0500                  0   \n",
              "1308            0             0           0   8.0500                  0   \n",
              "1309            0             1           1  22.3583                  0   \n",
              "\n",
              "             Classe_2  Classe_3  Embarque_Q  Embarque_S  Titulo_HomemAdulto  \\\n",
              "PassengerId                                                                   \n",
              "6                   0         1           1           0                   1   \n",
              "18                  1         0           0           1                   1   \n",
              "20                  0         1           0           0                   0   \n",
              "27                  0         1           0           0                   1   \n",
              "29                  0         1           1           0                   0   \n",
              "...               ...       ...         ...         ...                 ...   \n",
              "1300                0         1           1           0                   0   \n",
              "1302                0         1           1           0                   0   \n",
              "1305                0         1           0           1                   1   \n",
              "1308                0         1           0           1                   1   \n",
              "1309                0         1           0           0                   0   \n",
              "\n",
              "             Titulo_Menino  Titulo_Solteira  \n",
              "PassengerId                                  \n",
              "6                        0                0  \n",
              "18                       0                0  \n",
              "20                       0                0  \n",
              "27                       0                0  \n",
              "29                       0                1  \n",
              "...                    ...              ...  \n",
              "1300                     0                1  \n",
              "1302                     0                1  \n",
              "1305                     0                0  \n",
              "1308                     0                0  \n",
              "1309                     1                0  \n",
              "\n",
              "[263 rows x 12 columns]"
            ]
          },
          "metadata": {
            "tags": []
          },
          "execution_count": 123
        }
      ]
    },
    {
      "cell_type": "code",
      "metadata": {
        "id": "x5o-80XSO89K",
        "outputId": "8c9102b4-f4cf-456f-911d-d1d8176b0d4f"
      },
      "source": [
        "train_idade.shape, test_idade.shape"
      ],
      "execution_count": null,
      "outputs": [
        {
          "output_type": "execute_result",
          "data": {
            "text/plain": [
              "((1046, 13), (263, 12))"
            ]
          },
          "metadata": {
            "tags": []
          },
          "execution_count": 124
        }
      ]
    },
    {
      "cell_type": "markdown",
      "metadata": {
        "id": "-1_aj-k_O89O"
      },
      "source": [
        "## Definir X e y para treinar o modelo"
      ]
    },
    {
      "cell_type": "code",
      "metadata": {
        "id": "mMCaGt0xO89P"
      },
      "source": [
        "X = train_idade.drop('Idade', axis=1)"
      ],
      "execution_count": null,
      "outputs": []
    },
    {
      "cell_type": "code",
      "metadata": {
        "id": "9XyKT60cO89S"
      },
      "source": [
        "y = train_idade['Idade']"
      ],
      "execution_count": null,
      "outputs": []
    },
    {
      "cell_type": "code",
      "metadata": {
        "id": "Dd6YUrl5O89V",
        "outputId": "931b8526-b95d-4e10-9e0b-12c2933f9d95"
      },
      "source": [
        "X.shape, y.shape"
      ],
      "execution_count": null,
      "outputs": [
        {
          "output_type": "execute_result",
          "data": {
            "text/plain": [
              "((1046, 12), (1046,))"
            ]
          },
          "metadata": {
            "tags": []
          },
          "execution_count": 127
        }
      ]
    },
    {
      "cell_type": "markdown",
      "metadata": {
        "id": "YnX9LbpFO89b"
      },
      "source": [
        "### Importar modelo regressivo"
      ]
    },
    {
      "cell_type": "code",
      "metadata": {
        "id": "mGd-T8U5O89b"
      },
      "source": [
        "from sklearn import linear_model"
      ],
      "execution_count": null,
      "outputs": []
    },
    {
      "cell_type": "markdown",
      "metadata": {
        "id": "-8lrrMaIO89f"
      },
      "source": [
        "### Instanciar modelo"
      ]
    },
    {
      "cell_type": "code",
      "metadata": {
        "id": "A-gjOUhRO89f"
      },
      "source": [
        "lm = linear_model.LinearRegression()"
      ],
      "execution_count": null,
      "outputs": []
    },
    {
      "cell_type": "markdown",
      "metadata": {
        "id": "FsDsXQQiO89j"
      },
      "source": [
        "### Importar train_test_split para preparar para treino"
      ]
    },
    {
      "cell_type": "code",
      "metadata": {
        "id": "Hh-6xVo-O89j"
      },
      "source": [
        "from sklearn.model_selection import train_test_split"
      ],
      "execution_count": null,
      "outputs": []
    },
    {
      "cell_type": "markdown",
      "metadata": {
        "id": "TF9aZbJBO89n"
      },
      "source": [
        "### Dividir 70% para treinar, 30% para testar"
      ]
    },
    {
      "cell_type": "code",
      "metadata": {
        "id": "E_4aGnBVO89q"
      },
      "source": [
        "X_train, X_test, y_train, y_test = train_test_split(X, y, test_size=0.30, random_state=123)"
      ],
      "execution_count": null,
      "outputs": []
    },
    {
      "cell_type": "markdown",
      "metadata": {
        "id": "ip5vSn2KO89w"
      },
      "source": [
        "### Treinar modelo"
      ]
    },
    {
      "cell_type": "code",
      "metadata": {
        "id": "esBhW8T0O89x",
        "outputId": "6cd5a486-5c58-4683-9e12-061259e73e9e"
      },
      "source": [
        "X_train.shape, y_train.shape"
      ],
      "execution_count": null,
      "outputs": [
        {
          "output_type": "execute_result",
          "data": {
            "text/plain": [
              "((732, 12), (732,))"
            ]
          },
          "metadata": {
            "tags": []
          },
          "execution_count": 134
        }
      ]
    },
    {
      "cell_type": "code",
      "metadata": {
        "id": "-NTl4oRkO890",
        "outputId": "e1a0fb98-86d0-43c5-d0ad-c8e04b003c31"
      },
      "source": [
        "X_test.shape, y_test.shape"
      ],
      "execution_count": null,
      "outputs": [
        {
          "output_type": "execute_result",
          "data": {
            "text/plain": [
              "((314, 12), (314,))"
            ]
          },
          "metadata": {
            "tags": []
          },
          "execution_count": 135
        }
      ]
    },
    {
      "cell_type": "code",
      "metadata": {
        "id": "_VevpNWyO892",
        "outputId": "4c7d6ccd-a822-417d-9dd7-282d180392ab"
      },
      "source": [
        "lm.fit(X_train, y_train) # treino do modelo"
      ],
      "execution_count": null,
      "outputs": [
        {
          "output_type": "execute_result",
          "data": {
            "text/plain": [
              "LinearRegression()"
            ]
          },
          "metadata": {
            "tags": []
          },
          "execution_count": 137
        }
      ]
    },
    {
      "cell_type": "markdown",
      "metadata": {
        "id": "IoAzV-yWO896"
      },
      "source": [
        "### Fazer predição"
      ]
    },
    {
      "cell_type": "code",
      "metadata": {
        "id": "42r9iXw9O897",
        "outputId": "49676d05-5053-49c2-9ef9-750d0e84d5fd"
      },
      "source": [
        "pred = lm.predict(X_test)\n",
        "pred.shape"
      ],
      "execution_count": null,
      "outputs": [
        {
          "output_type": "execute_result",
          "data": {
            "text/plain": [
              "(314,)"
            ]
          },
          "metadata": {
            "tags": []
          },
          "execution_count": 139
        }
      ]
    },
    {
      "cell_type": "markdown",
      "metadata": {
        "id": "yiAI_0AnO899"
      },
      "source": [
        "### Importar mean_squared_error (erro quadrado médio)"
      ]
    },
    {
      "cell_type": "code",
      "metadata": {
        "id": "43H1sXo-O89-"
      },
      "source": [
        "from sklearn.metrics import mean_squared_error"
      ],
      "execution_count": null,
      "outputs": []
    },
    {
      "cell_type": "markdown",
      "metadata": {
        "id": "bQllIOT3O8-B"
      },
      "source": [
        "### Averiguar score"
      ]
    },
    {
      "cell_type": "code",
      "metadata": {
        "id": "4Csp50y5O8-B",
        "outputId": "37f254e1-058c-4433-d07d-30fd9b73829b"
      },
      "source": [
        "lm.score(X_test, y_test)"
      ],
      "execution_count": null,
      "outputs": [
        {
          "output_type": "execute_result",
          "data": {
            "text/plain": [
              "0.4805876982432238"
            ]
          },
          "metadata": {
            "tags": []
          },
          "execution_count": 142
        }
      ]
    },
    {
      "cell_type": "markdown",
      "metadata": {
        "id": "5__ulMKpO8-E"
      },
      "source": [
        "### Averiguar rmse"
      ]
    },
    {
      "cell_type": "code",
      "metadata": {
        "id": "97D_pmf8O8-E"
      },
      "source": [
        "mse = mean_squared_error(y_test, pred)"
      ],
      "execution_count": null,
      "outputs": []
    },
    {
      "cell_type": "code",
      "metadata": {
        "id": "s97lGUCuO8-H",
        "outputId": "42b90808-1f9f-4921-f39e-e058765c97b6"
      },
      "source": [
        "rmse = np.sqrt(mse)\n",
        "rmse"
      ],
      "execution_count": null,
      "outputs": [
        {
          "output_type": "execute_result",
          "data": {
            "text/plain": [
              "10.363417349081386"
            ]
          },
          "metadata": {
            "tags": []
          },
          "execution_count": 144
        }
      ]
    },
    {
      "cell_type": "markdown",
      "metadata": {
        "id": "BqNJ5l53O8-K"
      },
      "source": [
        "### Visualizar resíduos em scatterplot"
      ]
    },
    {
      "cell_type": "code",
      "metadata": {
        "id": "PGHkvGxfO8-K",
        "outputId": "7d5efc06-b132-47fa-eeaa-a04c8e0064bb"
      },
      "source": [
        "plt.scatter(y_test, pred)\n",
        "plt.show()"
      ],
      "execution_count": null,
      "outputs": [
        {
          "output_type": "display_data",
          "data": {
            "image/png": "[encoded data removed]",
            "text/plain": [
              "<Figure size 432x288 with 1 Axes>"
            ]
          },
          "metadata": {
            "tags": [],
            "needs_background": "light"
          }
        }
      ]
    },
    {
      "cell_type": "markdown",
      "metadata": {
        "id": "7EpvrUK2O8-O"
      },
      "source": [
        "<a name=\"tarifa\"></a>"
      ]
    },
    {
      "cell_type": "markdown",
      "metadata": {
        "id": "fIJfi9U_O8-P"
      },
      "source": [
        "### Aplicar modelo nos dados nulos"
      ]
    },
    {
      "cell_type": "code",
      "metadata": {
        "id": "4JQvz4kBO8-P",
        "outputId": "315a1dbb-4c54-475e-8c71-44747e38b1e3"
      },
      "source": [
        "test_idade.shape"
      ],
      "execution_count": null,
      "outputs": [
        {
          "output_type": "execute_result",
          "data": {
            "text/plain": [
              "(263, 12)"
            ]
          },
          "metadata": {
            "tags": []
          },
          "execution_count": 146
        }
      ]
    },
    {
      "cell_type": "code",
      "metadata": {
        "id": "vVxVqB8DO8-S"
      },
      "source": [
        "pred_idade = lm.predict(test_idade)"
      ],
      "execution_count": null,
      "outputs": []
    },
    {
      "cell_type": "code",
      "metadata": {
        "id": "DDXOsCR5O8-W",
        "outputId": "6ac80435-1dd9-47f3-cf4d-b8b7663577f4"
      },
      "source": [
        "pred_idade.shape"
      ],
      "execution_count": null,
      "outputs": [
        {
          "output_type": "execute_result",
          "data": {
            "text/plain": [
              "(263,)"
            ]
          },
          "metadata": {
            "tags": []
          },
          "execution_count": 149
        }
      ]
    },
    {
      "cell_type": "markdown",
      "metadata": {
        "id": "BTgEgEf6O8-Y"
      },
      "source": [
        "### Criar coluna Idade contendos as predições"
      ]
    },
    {
      "cell_type": "code",
      "metadata": {
        "id": "0oS36WLzO8-Y"
      },
      "source": [
        "test_idade['Idade'] = pred_idade"
      ],
      "execution_count": null,
      "outputs": []
    },
    {
      "cell_type": "code",
      "metadata": {
        "id": "Fj8q8Ss0O8-f",
        "outputId": "89277bef-926b-4c0b-e7fe-600cc82b25c2"
      },
      "source": [
        "test_idade.isnull().sum()"
      ],
      "execution_count": null,
      "outputs": [
        {
          "output_type": "execute_result",
          "data": {
            "text/plain": [
              "Sexo                  0\n",
              "IrmaoConjuge          0\n",
              "PaisFilhos            0\n",
              "Tarifa                0\n",
              "solteira_com_pais     0\n",
              "Classe_2              0\n",
              "Classe_3              0\n",
              "Embarque_Q            0\n",
              "Embarque_S            0\n",
              "Titulo_HomemAdulto    0\n",
              "Titulo_Menino         0\n",
              "Titulo_Solteira       0\n",
              "Idade                 0\n",
              "dtype: int64"
            ]
          },
          "metadata": {
            "tags": []
          },
          "execution_count": 152
        }
      ]
    },
    {
      "cell_type": "markdown",
      "metadata": {
        "id": "Qa9oD6RUO8-j"
      },
      "source": [
        "### Averiguar shapes"
      ]
    },
    {
      "cell_type": "code",
      "metadata": {
        "id": "ojsuJUAuO8-k",
        "outputId": "05068924-f94c-4ad1-e859-bdcaf3b6d5d5"
      },
      "source": [
        "test_idade.shape, train_idade.shape"
      ],
      "execution_count": null,
      "outputs": [
        {
          "output_type": "execute_result",
          "data": {
            "text/plain": [
              "((263, 13), (1046, 13))"
            ]
          },
          "metadata": {
            "tags": []
          },
          "execution_count": 153
        }
      ]
    },
    {
      "cell_type": "markdown",
      "metadata": {
        "id": "6s7yrWmjO8-q"
      },
      "source": [
        "### Concatenar dados"
      ]
    },
    {
      "cell_type": "code",
      "metadata": {
        "id": "QtMqSee2O8-q"
      },
      "source": [
        "idade = pd.concat([train_idade, test_idade], sort=False)"
      ],
      "execution_count": null,
      "outputs": []
    },
    {
      "cell_type": "markdown",
      "metadata": {
        "id": "RnJoxpzFO8-t"
      },
      "source": [
        "### Criar DataFrame contendo \"IdPassageiro\" e \"Idade\""
      ]
    },
    {
      "cell_type": "code",
      "metadata": {
        "id": "_5fCss8CO8-u",
        "outputId": "ed15d4c6-6f04-4087-d113-1d19087561f4"
      },
      "source": [
        "idade.isnull().sum()"
      ],
      "execution_count": null,
      "outputs": [
        {
          "output_type": "execute_result",
          "data": {
            "text/plain": [
              "Sexo                  0\n",
              "Idade                 0\n",
              "IrmaoConjuge          0\n",
              "PaisFilhos            0\n",
              "Tarifa                0\n",
              "solteira_com_pais     0\n",
              "Classe_2              0\n",
              "Classe_3              0\n",
              "Embarque_Q            0\n",
              "Embarque_S            0\n",
              "Titulo_HomemAdulto    0\n",
              "Titulo_Menino         0\n",
              "Titulo_Solteira       0\n",
              "dtype: int64"
            ]
          },
          "metadata": {
            "tags": []
          },
          "execution_count": 156
        }
      ]
    },
    {
      "cell_type": "code",
      "metadata": {
        "id": "23aYWjODO8-y",
        "outputId": "438567bc-6074-46c4-c402-48ad19683821"
      },
      "source": [
        "idade.shape"
      ],
      "execution_count": null,
      "outputs": [
        {
          "output_type": "execute_result",
          "data": {
            "text/plain": [
              "(1309, 13)"
            ]
          },
          "metadata": {
            "tags": []
          },
          "execution_count": 157
        }
      ]
    },
    {
      "cell_type": "code",
      "metadata": {
        "id": "TpcwcNkOO8-0"
      },
      "source": [
        "idade_completa = pd.DataFrame({'IdPassageiro': idade.index, 'Idade':idade['Idade']})"
      ],
      "execution_count": null,
      "outputs": []
    },
    {
      "cell_type": "code",
      "metadata": {
        "id": "SQJzg7ctO8-3",
        "outputId": "0c75d7d6-0d12-45ac-e498-22c534f86c44"
      },
      "source": [
        "idade_completa"
      ],
      "execution_count": null,
      "outputs": [
        {
          "output_type": "execute_result",
          "data": {
            "text/html": [
              "<div>\n",
              "<style scoped>\n",
              "    .dataframe tbody tr th:only-of-type {\n",
              "        vertical-align: middle;\n",
              "    }\n",
              "\n",
              "    .dataframe tbody tr th {\n",
              "        vertical-align: top;\n",
              "    }\n",
              "\n",
              "    .dataframe thead th {\n",
              "        text-align: right;\n",
              "    }\n",
              "</style>\n",
              "<table border=\"1\" class=\"dataframe\">\n",
              "  <thead>\n",
              "    <tr style=\"text-align: right;\">\n",
              "      <th></th>\n",
              "      <th>IdPassageiro</th>\n",
              "      <th>Idade</th>\n",
              "    </tr>\n",
              "    <tr>\n",
              "      <th>PassengerId</th>\n",
              "      <th></th>\n",
              "      <th></th>\n",
              "    </tr>\n",
              "  </thead>\n",
              "  <tbody>\n",
              "    <tr>\n",
              "      <th>1</th>\n",
              "      <td>1</td>\n",
              "      <td>22.000000</td>\n",
              "    </tr>\n",
              "    <tr>\n",
              "      <th>2</th>\n",
              "      <td>2</td>\n",
              "      <td>38.000000</td>\n",
              "    </tr>\n",
              "    <tr>\n",
              "      <th>3</th>\n",
              "      <td>3</td>\n",
              "      <td>26.000000</td>\n",
              "    </tr>\n",
              "    <tr>\n",
              "      <th>4</th>\n",
              "      <td>4</td>\n",
              "      <td>35.000000</td>\n",
              "    </tr>\n",
              "    <tr>\n",
              "      <th>5</th>\n",
              "      <td>5</td>\n",
              "      <td>35.000000</td>\n",
              "    </tr>\n",
              "    <tr>\n",
              "      <th>...</th>\n",
              "      <td>...</td>\n",
              "      <td>...</td>\n",
              "    </tr>\n",
              "    <tr>\n",
              "      <th>1300</th>\n",
              "      <td>1300</td>\n",
              "      <td>25.163780</td>\n",
              "    </tr>\n",
              "    <tr>\n",
              "      <th>1302</th>\n",
              "      <td>1302</td>\n",
              "      <td>25.163531</td>\n",
              "    </tr>\n",
              "    <tr>\n",
              "      <th>1305</th>\n",
              "      <td>1305</td>\n",
              "      <td>29.088798</td>\n",
              "    </tr>\n",
              "    <tr>\n",
              "      <th>1308</th>\n",
              "      <td>1308</td>\n",
              "      <td>29.088798</td>\n",
              "    </tr>\n",
              "    <tr>\n",
              "      <th>1309</th>\n",
              "      <td>1309</td>\n",
              "      <td>0.914441</td>\n",
              "    </tr>\n",
              "  </tbody>\n",
              "</table>\n",
              "<p>1309 rows × 2 columns</p>\n",
              "</div>"
            ],
            "text/plain": [
              "             IdPassageiro      Idade\n",
              "PassengerId                         \n",
              "1                       1  22.000000\n",
              "2                       2  38.000000\n",
              "3                       3  26.000000\n",
              "4                       4  35.000000\n",
              "5                       5  35.000000\n",
              "...                   ...        ...\n",
              "1300                 1300  25.163780\n",
              "1302                 1302  25.163531\n",
              "1305                 1305  29.088798\n",
              "1308                 1308  29.088798\n",
              "1309                 1309   0.914441\n",
              "\n",
              "[1309 rows x 2 columns]"
            ]
          },
          "metadata": {
            "tags": []
          },
          "execution_count": 162
        }
      ]
    },
    {
      "cell_type": "markdown",
      "metadata": {
        "id": "rHTgjmIaO8-5"
      },
      "source": [
        "### Salvar CSV com idade completa"
      ]
    },
    {
      "cell_type": "code",
      "metadata": {
        "id": "FeQGvf0dO8-5"
      },
      "source": [
        "idade_completa.to_csv('idade_completa.csv', index=False)"
      ],
      "execution_count": null,
      "outputs": []
    },
    {
      "cell_type": "code",
      "metadata": {
        "id": "yeX5tJ7EO8-7"
      },
      "source": [
        "data_idade = pd.read_csv('idade_completa.csv')"
      ],
      "execution_count": null,
      "outputs": []
    },
    {
      "cell_type": "code",
      "metadata": {
        "id": "ndjVfiN-O8-9",
        "outputId": "366289fe-7d42-402d-9f0b-198285e4ca52"
      },
      "source": [
        "data_idade"
      ],
      "execution_count": null,
      "outputs": [
        {
          "output_type": "execute_result",
          "data": {
            "text/html": [
              "<div>\n",
              "<style scoped>\n",
              "    .dataframe tbody tr th:only-of-type {\n",
              "        vertical-align: middle;\n",
              "    }\n",
              "\n",
              "    .dataframe tbody tr th {\n",
              "        vertical-align: top;\n",
              "    }\n",
              "\n",
              "    .dataframe thead th {\n",
              "        text-align: right;\n",
              "    }\n",
              "</style>\n",
              "<table border=\"1\" class=\"dataframe\">\n",
              "  <thead>\n",
              "    <tr style=\"text-align: right;\">\n",
              "      <th></th>\n",
              "      <th>IdPassageiro</th>\n",
              "      <th>Idade</th>\n",
              "    </tr>\n",
              "  </thead>\n",
              "  <tbody>\n",
              "    <tr>\n",
              "      <th>0</th>\n",
              "      <td>1</td>\n",
              "      <td>22.000000</td>\n",
              "    </tr>\n",
              "    <tr>\n",
              "      <th>1</th>\n",
              "      <td>2</td>\n",
              "      <td>38.000000</td>\n",
              "    </tr>\n",
              "    <tr>\n",
              "      <th>2</th>\n",
              "      <td>3</td>\n",
              "      <td>26.000000</td>\n",
              "    </tr>\n",
              "    <tr>\n",
              "      <th>3</th>\n",
              "      <td>4</td>\n",
              "      <td>35.000000</td>\n",
              "    </tr>\n",
              "    <tr>\n",
              "      <th>4</th>\n",
              "      <td>5</td>\n",
              "      <td>35.000000</td>\n",
              "    </tr>\n",
              "    <tr>\n",
              "      <th>...</th>\n",
              "      <td>...</td>\n",
              "      <td>...</td>\n",
              "    </tr>\n",
              "    <tr>\n",
              "      <th>1304</th>\n",
              "      <td>1300</td>\n",
              "      <td>25.163780</td>\n",
              "    </tr>\n",
              "    <tr>\n",
              "      <th>1305</th>\n",
              "      <td>1302</td>\n",
              "      <td>25.163531</td>\n",
              "    </tr>\n",
              "    <tr>\n",
              "      <th>1306</th>\n",
              "      <td>1305</td>\n",
              "      <td>29.088798</td>\n",
              "    </tr>\n",
              "    <tr>\n",
              "      <th>1307</th>\n",
              "      <td>1308</td>\n",
              "      <td>29.088798</td>\n",
              "    </tr>\n",
              "    <tr>\n",
              "      <th>1308</th>\n",
              "      <td>1309</td>\n",
              "      <td>0.914441</td>\n",
              "    </tr>\n",
              "  </tbody>\n",
              "</table>\n",
              "<p>1309 rows × 2 columns</p>\n",
              "</div>"
            ],
            "text/plain": [
              "      IdPassageiro      Idade\n",
              "0                1  22.000000\n",
              "1                2  38.000000\n",
              "2                3  26.000000\n",
              "3                4  35.000000\n",
              "4                5  35.000000\n",
              "...            ...        ...\n",
              "1304          1300  25.163780\n",
              "1305          1302  25.163531\n",
              "1306          1305  29.088798\n",
              "1307          1308  29.088798\n",
              "1308          1309   0.914441\n",
              "\n",
              "[1309 rows x 2 columns]"
            ]
          },
          "metadata": {
            "tags": []
          },
          "execution_count": 166
        }
      ]
    }
  ]
}